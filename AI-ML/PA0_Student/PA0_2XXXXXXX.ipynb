{
 "cells": [
  {
   "cell_type": "markdown",
   "metadata": {
    "id": "occYz8iXWKQk"
   },
   "source": [
    "# Programming Assignment 1: Python Tutorial\n",
    "\n",
    "Credits: This notebook is inspired by a [Python tutorial](http://cs231n.github.io/python-numpy-tutorial/) by [Justin Johnson](https://web.eecs.umich.edu/~justincj/) for [CS231n](http://cs231n.github.io/).\n",
    "\n",
    "Feel free to refer to the original course for more practice."
   ]
  },
  {
   "cell_type": "markdown",
   "metadata": {
    "id": "W-trfVF5WKQw"
   },
   "source": [
    "## Introduction"
   ]
  },
  {
   "cell_type": "markdown",
   "metadata": {
    "id": "zR7IRFdyWKQy"
   },
   "source": [
    "We will use the Python programming language for all assignments in this course. Python is a great general-purpose programming language on its own, but with the help of a few popular libraries (numpy, scipy, matplotlib) it becomes a powerful environment for scientific computing.\n",
    "\n",
    "We expect that many of you will have some experience with Python and numpy; for the rest of you, this section will serve as a quick crash course both on the Python programming language and on the use of Python for scientific computing."
   ]
  },
  {
   "cell_type": "markdown",
   "metadata": {
    "id": "A1LyBMR8WKQ1"
   },
   "source": [
    "In this tutorial, we will cover:\n",
    "\n",
    "* Basic Python: Basic data types (Containers, Lists, Dictionaries, Sets, Tuples), Functions, Classes\n",
    "* Numpy: Arrays, Array indexing, Datatypes, Array math, Broadcasting\n",
    "* Matplotlib: Plotting, Subplots, Images\n",
    "* IPython: Creating notebooks, Typical workflows"
   ]
  },
  {
   "cell_type": "markdown",
   "metadata": {},
   "source": [
    "<h3>Assignment Instructions - Read Carefully</h3>\n",
    "\n",
    "* **How to install 'otter'**: Run `pip install otter-grader` in your Anaconda Command Prompt\n",
    "* **Otter**: It is an autograder that we will be using for grading your notebooks.\n",
    "* **Initialize Otter**: Run the cell above to initialize otter.\n",
    "* **grader.check('qn')**: This command runs test cases for nth question `qn` provided to you and displays the result. But these are not the only test cases, these are provided just for your basic testing. There will be some *hidden test cases* on which your answers will be tested as well.\n",
    "* You are **not** allowed to edit any pre-defined variables and as per the instructions for every question you have to assign your answers to these variables.\n",
    "* Write your answers in place of `...`\n",
    "* For auto-graded questions, the marking will be binary. There is NO partial marking.\n",
    "* Make sure all your graphs are labelled and annotated correctly. Not doing so will incur a penalty."
   ]
  },
  {
   "cell_type": "markdown",
   "metadata": {},
   "source": [
    "<h3>Submission Instructions - Read Carefully </h3>\n",
    "\n",
    "* You must submit this notebook file only and it must not has any folder or any other file. \n",
    "* The name of this file must be `PA0_RollNumber`. For example if your roll number is `26100053` it should be `PA0_26100053`. \n"
   ]
  },
  {
   "cell_type": "markdown",
   "metadata": {},
   "source": [
    "Please run the cell below to initialize the autograder. Your assignment will NOT be graded otherwise."
   ]
  },
  {
   "cell_type": "code",
   "execution_count": 1,
   "metadata": {},
   "outputs": [],
   "source": [
    "import otter\n",
    "grader = otter.Notebook()"
   ]
  },
  {
   "cell_type": "markdown",
   "metadata": {
    "id": "bdv-xJ-VWKQ3"
   },
   "source": [
    "## Basics of Python"
   ]
  },
  {
   "cell_type": "markdown",
   "metadata": {
    "id": "G78id_A-WKQ4"
   },
   "source": [
    "Python is a high-level, dynamically typed multiparadigm programming language. Python code is often said to be almost like pseudocode, since it allows you to express very powerful ideas in very few lines of code while being very readable. As an example, here is an implementation of the classic quicksort algorithm in Python:"
   ]
  },
  {
   "cell_type": "code",
   "execution_count": 6,
   "metadata": {
    "id": "-rtIO5QqWKQ6"
   },
   "outputs": [
    {
     "name": "stdout",
     "output_type": "stream",
     "text": [
      "[1, 1, 2, 3, 6, 8, 10]\n"
     ]
    }
   ],
   "source": [
    "def quicksort(arr):\n",
    "    if len(arr) <= 1:\n",
    "        return arr\n",
    "    pivot = arr[len(arr) // 2]\n",
    "    left = [x for x in arr if x < pivot]\n",
    "    middle = [x for x in arr if x == pivot]\n",
    "    right = [x for x in arr if x > pivot]\n",
    "    return quicksort(left) + middle + quicksort(right)\n",
    "\n",
    "print(quicksort([3,6,8,10,1,2,1]))\n",
    "# Prints \"[1, 1, 2, 3, 6, 8, 10]\""
   ]
  },
  {
   "cell_type": "markdown",
   "metadata": {
    "id": "90nqR-PyWKQ-"
   },
   "source": [
    "### Python versions"
   ]
  },
  {
   "cell_type": "markdown",
   "metadata": {
    "id": "7R_NmqJrWKQ_"
   },
   "source": [
    "For this class all code will use Python 3.7. You can check your Python version by executing the cell below:"
   ]
  },
  {
   "cell_type": "code",
   "execution_count": 7,
   "metadata": {
    "id": "_GCl5VfmWKRB"
   },
   "outputs": [
    {
     "name": "stdout",
     "output_type": "stream",
     "text": [
      "Python 3.13.5\n"
     ]
    }
   ],
   "source": [
    "!python --version"
   ]
  },
  {
   "cell_type": "markdown",
   "metadata": {
    "id": "rUJqaUE7WKRD"
   },
   "source": [
    "### Basic data types"
   ]
  },
  {
   "cell_type": "markdown",
   "metadata": {
    "id": "iCRB131rWKRE"
   },
   "source": [
    "#### Numbers"
   ]
  },
  {
   "cell_type": "markdown",
   "metadata": {
    "id": "vmWbDg3OWKRF"
   },
   "source": [
    "Integers and floats work as you would expect from other languages:"
   ]
  },
  {
   "cell_type": "code",
   "execution_count": 8,
   "metadata": {
    "id": "Gvp0I3p6WKRG"
   },
   "outputs": [
    {
     "name": "stdout",
     "output_type": "stream",
     "text": [
      "<class 'int'>\n",
      "3\n"
     ]
    }
   ],
   "source": [
    "x = 3\n",
    "print(type(x)) # Prints \"<class 'int'>\"\n",
    "print(x)       # Prints \"3\""
   ]
  },
  {
   "cell_type": "code",
   "execution_count": 9,
   "metadata": {
    "id": "vCByb8r0WKRG"
   },
   "outputs": [
    {
     "name": "stdout",
     "output_type": "stream",
     "text": [
      "4\n",
      "2\n",
      "6\n",
      "9\n"
     ]
    }
   ],
   "source": [
    "y = x + 1\n",
    "print(y)   # Addition; prints \"4\"\n",
    "y = x - 1\n",
    "print(y)   # Subtraction; prints \"2\"\n",
    "y = x * 2\n",
    "print(y)   # Multiplication; prints \"6\"\n",
    "y = x ** 2\n",
    "print(y)   # Exponentiation; prints \"9\"\n"
   ]
  },
  {
   "cell_type": "code",
   "execution_count": 10,
   "metadata": {
    "id": "M8kvYCWbWKRH"
   },
   "outputs": [
    {
     "name": "stdout",
     "output_type": "stream",
     "text": [
      "4\n",
      "8\n"
     ]
    }
   ],
   "source": [
    "x += 1\n",
    "print(x)  # Prints \"4\"\n",
    "x *= 2\n",
    "print(x)  # Prints \"8\""
   ]
  },
  {
   "cell_type": "code",
   "execution_count": 11,
   "metadata": {
    "id": "JgGZ9niAWKRI"
   },
   "outputs": [
    {
     "name": "stdout",
     "output_type": "stream",
     "text": [
      "<class 'float'>\n",
      "2.5 3.5 5.0 6.25\n"
     ]
    }
   ],
   "source": [
    "y = 2.5\n",
    "print(type(y)) # Prints \"<class 'float'>\"\n",
    "print(y, y + 1, y * 2, y ** 2) # Prints \"2.5 3.5 5.0 6.25\""
   ]
  },
  {
   "cell_type": "markdown",
   "metadata": {
    "id": "CiLEtnVKWKRK"
   },
   "source": [
    "Note that unlike many languages, Python does not have unary increment (x++) or decrement (x--) operators.\n",
    "\n",
    "Python also has built-in types for long integers and complex numbers; you can find all of the details in the [documentation](https://docs.python.org/3.7/library/stdtypes.html#numeric-types-int-float-complex)."
   ]
  },
  {
   "cell_type": "markdown",
   "metadata": {
    "id": "PlxHAPYfWKRK"
   },
   "source": [
    "#### Booleans"
   ]
  },
  {
   "cell_type": "markdown",
   "metadata": {
    "id": "Fr6CZepgWKRL"
   },
   "source": [
    "Python implements all of the usual operators for Boolean logic, but uses English words rather than symbols (`&&`, `||`, etc.):"
   ]
  },
  {
   "cell_type": "code",
   "execution_count": 12,
   "metadata": {
    "id": "LW9CK7R7WKRM"
   },
   "outputs": [
    {
     "name": "stdout",
     "output_type": "stream",
     "text": [
      "<class 'bool'>\n",
      "False\n",
      "True\n",
      "False\n",
      "True\n"
     ]
    }
   ],
   "source": [
    "t = True\n",
    "f = False\n",
    "print(type(t)) # Prints \"<class 'bool'>\"\n",
    "print(t and f) # Logical AND; prints \"False\"\n",
    "print(t or f)  # Logical OR; prints \"True\"\n",
    "print(not t)   # Logical NOT; prints \"False\"\n",
    "print(t != f)  # Logical XOR; prints \"True\""
   ]
  },
  {
   "cell_type": "markdown",
   "metadata": {
    "id": "fXqBE_oOWKRM"
   },
   "source": [
    "#### Strings\n",
    "\n",
    "Python has great support for strings:"
   ]
  },
  {
   "cell_type": "code",
   "execution_count": 13,
   "metadata": {
    "id": "0XeQcNmPWKRN"
   },
   "outputs": [
    {
     "name": "stdout",
     "output_type": "stream",
     "text": [
      "hello\n",
      "5\n",
      "hello world\n",
      "hello world 12\n"
     ]
    }
   ],
   "source": [
    "hello = 'hello'    # String literals can use single quotes\n",
    "world = \"world\"    # or double quotes; it does not matter.\n",
    "print(hello)       # Prints \"hello\"\n",
    "print(len(hello))  # String length; prints \"5\"\n",
    "hw = hello + ' ' + world  # String concatenation\n",
    "print(hw)  # prints \"hello world\"\n",
    "hw12 = '%s %s %d' % (hello, world, 12)  # sprintf style string formatting\n",
    "print(hw12)  # prints \"hello world 12\""
   ]
  },
  {
   "cell_type": "markdown",
   "metadata": {
    "id": "dVne6LXbWKRO"
   },
   "source": [
    "String objects have a bunch of useful methods; for example:"
   ]
  },
  {
   "cell_type": "code",
   "execution_count": 14,
   "metadata": {
    "id": "OWT9hYmUWKRP"
   },
   "outputs": [
    {
     "name": "stdout",
     "output_type": "stream",
     "text": [
      "Hello\n",
      "HELLO\n",
      "  hello\n",
      " hello \n",
      "he(ell)(ell)o\n",
      "world\n"
     ]
    }
   ],
   "source": [
    "s = \"hello\"\n",
    "print(s.capitalize())  # Capitalize a string; prints \"Hello\"\n",
    "print(s.upper())       # Convert a string to uppercase; prints \"HELLO\"\n",
    "print(s.rjust(7))      # Right-justify a string, padding with spaces; prints \"  hello\"\n",
    "print(s.center(7))     # Center a string, padding with spaces; prints \" hello \"\n",
    "print(s.replace('l', '(ell)'))  # Replace all instances of one substring with another;\n",
    "                                # prints \"he(ell)(ell)o\"\n",
    "print('  world '.strip())  # Strip leading and trailing whitespace; prints \"world\""
   ]
  },
  {
   "cell_type": "markdown",
   "metadata": {
    "id": "sEiCd17mWKRR"
   },
   "source": [
    "You can find a list of all string methods in the [documentation](https://docs.python.org/3.7/library/stdtypes.html#string-methods)."
   ]
  },
  {
   "cell_type": "markdown",
   "metadata": {
    "id": "1sT-jG2mWKRS"
   },
   "source": [
    "### Containers"
   ]
  },
  {
   "cell_type": "markdown",
   "metadata": {
    "id": "XJY9zJhFWKRS"
   },
   "source": [
    "Python includes several built-in container types: lists, dictionaries, sets, and tuples."
   ]
  },
  {
   "cell_type": "markdown",
   "metadata": {
    "id": "koPtVnfrWKRT"
   },
   "source": [
    "#### Lists"
   ]
  },
  {
   "cell_type": "markdown",
   "metadata": {
    "id": "LLOlN2a-WKRV"
   },
   "source": [
    "A list is the Python equivalent of an array, but is resizeable and can contain elements of different types:"
   ]
  },
  {
   "cell_type": "code",
   "execution_count": 15,
   "metadata": {
    "id": "721AsuibWKRW"
   },
   "outputs": [
    {
     "name": "stdout",
     "output_type": "stream",
     "text": [
      "[3, 1, 2] 2\n",
      "2\n",
      "[3, 1, 'foo']\n",
      "[3, 1, 'foo', 'bar']\n",
      "bar [3, 1, 'foo']\n"
     ]
    }
   ],
   "source": [
    "xs = [3, 1, 2]    # Create a list\n",
    "print(xs, xs[2])  # Prints \"[3, 1, 2] 2\"\n",
    "print(xs[-1])     # Negative indices count from the end of the list; prints \"2\"\n",
    "xs[2] = 'foo'     # Lists can contain elements of different types\n",
    "print(xs)         # Prints \"[3, 1, 'foo']\"\n",
    "xs.append('bar')  # Add a new element to the end of the list\n",
    "print(xs)         # Prints \"[3, 1, 'foo', 'bar']\"\n",
    "x = xs.pop()      # Remove and return the last element of the list\n",
    "print(x, xs)      # Prints \"bar [3, 1, 'foo']\""
   ]
  },
  {
   "cell_type": "markdown",
   "metadata": {
    "id": "qF_gZH_-WKRX"
   },
   "source": [
    "As usual, you can find all the gory details about lists in the [documentation](https://docs.python.org/3.7/tutorial/datastructures.html#more-on-lists)."
   ]
  },
  {
   "cell_type": "markdown",
   "metadata": {
    "id": "iYNOm2OWWKRY"
   },
   "source": [
    "##### Slicing"
   ]
  },
  {
   "cell_type": "markdown",
   "metadata": {
    "id": "ols_O8sMWKRZ"
   },
   "source": [
    "In addition to accessing list elements one at a time, Python provides concise syntax to access sublists; this is known as slicing:"
   ]
  },
  {
   "cell_type": "code",
   "execution_count": 16,
   "metadata": {
    "id": "P9oCx5TLWKRZ"
   },
   "outputs": [
    {
     "name": "stdout",
     "output_type": "stream",
     "text": [
      "[0, 1, 2, 3, 4]\n",
      "[2, 3]\n",
      "[2, 3, 4]\n",
      "[0, 1]\n",
      "[0, 1, 2, 3, 4]\n",
      "[0, 1, 2, 3]\n",
      "[0, 1, 8, 9, 4]\n"
     ]
    }
   ],
   "source": [
    "nums = list(range(5))     # range is a built-in function that creates a list of integers\n",
    "print(nums)               # Prints \"[0, 1, 2, 3, 4]\"\n",
    "print(nums[2:4])          # Get a slice from index 2 to 4 (exclusive); prints \"[2, 3]\"\n",
    "print(nums[2:])           # Get a slice from index 2 to the end; prints \"[2, 3, 4]\"\n",
    "print(nums[:2])           # Get a slice from the start to index 2 (exclusive); prints \"[0, 1]\"\n",
    "print(nums[:])            # Get a slice of the whole list; prints \"[0, 1, 2, 3, 4]\"\n",
    "print(nums[:-1])          # Slice indices can be negative; prints \"[0, 1, 2, 3]\"\n",
    "nums[2:4] = [8, 9]        # Assign a new sublist to a slice\n",
    "print(nums)               # Prints \"[0, 1, 8, 9, 4]\""
   ]
  },
  {
   "cell_type": "markdown",
   "metadata": {
    "id": "fuV6A-OyWKRa"
   },
   "source": [
    "##### Loops"
   ]
  },
  {
   "cell_type": "markdown",
   "metadata": {
    "id": "E6_9iRsRWKRb"
   },
   "source": [
    "You can loop over the elements of a list like this:"
   ]
  },
  {
   "cell_type": "code",
   "execution_count": 17,
   "metadata": {
    "id": "5sbYXMb-WKRb"
   },
   "outputs": [
    {
     "name": "stdout",
     "output_type": "stream",
     "text": [
      "cat\n",
      "dog\n",
      "monkey\n"
     ]
    }
   ],
   "source": [
    "animals = ['cat', 'dog', 'monkey']\n",
    "for animal in animals:\n",
    "    print(animal)\n",
    "# Prints \"cat\", \"dog\", \"monkey\", each on its own line."
   ]
  },
  {
   "cell_type": "markdown",
   "metadata": {
    "id": "T6AP24tLWKRb"
   },
   "source": [
    "If you want access to the index of each element within the body of a loop, use the built-in `enumerate` function:"
   ]
  },
  {
   "cell_type": "code",
   "execution_count": 18,
   "metadata": {
    "id": "B9gICtLPWKRc"
   },
   "outputs": [
    {
     "name": "stdout",
     "output_type": "stream",
     "text": [
      "#1: cat\n",
      "#2: dog\n",
      "#3: monkey\n"
     ]
    }
   ],
   "source": [
    "animals = ['cat', 'dog', 'monkey']\n",
    "for idx, animal in enumerate(animals):\n",
    "    print('#%d: %s' % (idx + 1, animal))\n",
    "# Prints \"#1: cat\", \"#2: dog\", \"#3: monkey\", each on its own line"
   ]
  },
  {
   "cell_type": "markdown",
   "metadata": {
    "id": "Ns8c1kUJWKRc"
   },
   "source": [
    "##### List comprehensions:"
   ]
  },
  {
   "cell_type": "markdown",
   "metadata": {
    "id": "Mw0WiWpTWKRd"
   },
   "source": [
    "When programming, frequently we want to transform one type of data into another. As a simple example, consider the following code that computes square numbers:"
   ]
  },
  {
   "cell_type": "code",
   "execution_count": 19,
   "metadata": {
    "id": "rwt9iY-9WKRd"
   },
   "outputs": [
    {
     "name": "stdout",
     "output_type": "stream",
     "text": [
      "[0, 1, 4, 9, 16]\n"
     ]
    }
   ],
   "source": [
    "nums = [0, 1, 2, 3, 4]\n",
    "squares = []\n",
    "for x in nums:\n",
    "    squares.append(x ** 2)\n",
    "print(squares)   # Prints [0, 1, 4, 9, 16]"
   ]
  },
  {
   "cell_type": "markdown",
   "metadata": {
    "id": "zln903BXWKRe"
   },
   "source": [
    "You can make this code simpler using a list comprehension:"
   ]
  },
  {
   "cell_type": "code",
   "execution_count": 20,
   "metadata": {
    "id": "-qwt30seWKRe"
   },
   "outputs": [
    {
     "name": "stdout",
     "output_type": "stream",
     "text": [
      "[0, 1, 4, 9, 16]\n"
     ]
    }
   ],
   "source": [
    "nums = [0, 1, 2, 3, 4]\n",
    "squares = [x ** 2 for x in nums]\n",
    "print(squares)   # Prints [0, 1, 4, 9, 16]"
   ]
  },
  {
   "cell_type": "markdown",
   "metadata": {
    "id": "sqTWOBJtWKRf"
   },
   "source": [
    "List comprehensions can also contain conditions:"
   ]
  },
  {
   "cell_type": "code",
   "execution_count": 21,
   "metadata": {
    "id": "6ZH4uijNWKRf"
   },
   "outputs": [
    {
     "name": "stdout",
     "output_type": "stream",
     "text": [
      "[0, 4, 16]\n"
     ]
    }
   ],
   "source": [
    "nums = [0, 1, 2, 3, 4]\n",
    "even_squares = [x ** 2 for x in nums if x % 2 == 0]\n",
    "print(even_squares)  # Prints \"[0, 4, 16]\""
   ]
  },
  {
   "cell_type": "markdown",
   "metadata": {
    "id": "VWaFen4HWKRg"
   },
   "source": [
    "#### Dictionaries"
   ]
  },
  {
   "cell_type": "markdown",
   "metadata": {
    "id": "-4qbEpSYWKRi"
   },
   "source": [
    "A dictionary stores (key, value) pairs, similar to a `Map` in Java or an object in Javascript. You can use it like this:"
   ]
  },
  {
   "cell_type": "code",
   "execution_count": 22,
   "metadata": {
    "id": "kUuSdyIdWKRi"
   },
   "outputs": [
    {
     "name": "stdout",
     "output_type": "stream",
     "text": [
      "cute\n",
      "True\n",
      "wet\n",
      "N/A\n",
      "wet\n",
      "N/A\n"
     ]
    }
   ],
   "source": [
    "d = {'cat': 'cute', 'dog': 'furry'}  # Create a new dictionary with some data\n",
    "print(d['cat'])       # Get an entry from a dictionary; prints \"cute\"\n",
    "print('cat' in d)     # Check if a dictionary has a given key; prints \"True\"\n",
    "d['fish'] = 'wet'     # Set an entry in a dictionary\n",
    "print(d['fish'])      # Prints \"wet\"\n",
    "# print(d['monkey'])  # KeyError: 'monkey' not a key of d\n",
    "print(d.get('monkey', 'N/A'))  # Get an element with a default; prints \"N/A\"\n",
    "print(d.get('fish', 'N/A'))    # Get an element with a default; prints \"wet\"\n",
    "del d['fish']         # Remove an element from a dictionary\n",
    "print(d.get('fish', 'N/A')) # \"fish\" is no longer a key; prints \"N/A\""
   ]
  },
  {
   "cell_type": "markdown",
   "metadata": {
    "id": "M2ciTBx-WKRj"
   },
   "source": [
    "You can find all you need to know about dictionaries in the [documentation](https://docs.python.org/3.7/library/stdtypes.html#dict)."
   ]
  },
  {
   "cell_type": "markdown",
   "metadata": {
    "id": "KHhTnHmHWKRk"
   },
   "source": [
    "##### Loops\n",
    "\n",
    "It is easy to iterate over the keys in a dictionary:"
   ]
  },
  {
   "cell_type": "code",
   "execution_count": 23,
   "metadata": {
    "id": "B9h_gkKcWKRl"
   },
   "outputs": [
    {
     "name": "stdout",
     "output_type": "stream",
     "text": [
      "A person has 2 legs\n",
      "A cat has 4 legs\n",
      "A spider has 8 legs\n"
     ]
    }
   ],
   "source": [
    "d = {'person': 2, 'cat': 4, 'spider': 8}\n",
    "for animal in d:\n",
    "    legs = d[animal]\n",
    "    print('A %s has %d legs' % (animal, legs))\n",
    "# Prints \"A person has 2 legs\", \"A cat has 4 legs\", \"A spider has 8 legs\""
   ]
  },
  {
   "cell_type": "markdown",
   "metadata": {
    "id": "IZqW7Y2uWKRl"
   },
   "source": [
    "If you want access to keys and their corresponding values, use the `items` method:"
   ]
  },
  {
   "cell_type": "code",
   "execution_count": 24,
   "metadata": {
    "id": "Ik7NhDsAWKRm"
   },
   "outputs": [
    {
     "name": "stdout",
     "output_type": "stream",
     "text": [
      "A person has 2 legs\n",
      "A cat has 4 legs\n",
      "A spider has 8 legs\n"
     ]
    }
   ],
   "source": [
    "d = {'person': 2, 'cat': 4, 'spider': 8}\n",
    "for animal, legs in d.items():\n",
    "    print('A %s has %d legs' % (animal, legs))\n",
    "# Prints \"A person has 2 legs\", \"A cat has 4 legs\", \"A spider has 8 legs\""
   ]
  },
  {
   "cell_type": "markdown",
   "metadata": {
    "id": "kLBhlWmvWKRn"
   },
   "source": [
    "##### Dictionary comprehensions\n",
    "\n",
    "These are similar to list comprehensions, but allow you to easily construct dictionaries. For example:"
   ]
  },
  {
   "cell_type": "code",
   "execution_count": 25,
   "metadata": {
    "id": "rtQAkqFZWKRn"
   },
   "outputs": [
    {
     "name": "stdout",
     "output_type": "stream",
     "text": [
      "{0: 0, 2: 4, 4: 16}\n"
     ]
    }
   ],
   "source": [
    "nums = [0, 1, 2, 3, 4]\n",
    "even_num_to_square = {x: x ** 2 for x in nums if x % 2 == 0}\n",
    "print(even_num_to_square)  # Prints \"{0: 0, 2: 4, 4: 16}\""
   ]
  },
  {
   "cell_type": "markdown",
   "metadata": {
    "id": "NkKG4tu3WKRo"
   },
   "source": [
    "#### Sets"
   ]
  },
  {
   "cell_type": "markdown",
   "metadata": {
    "id": "x4N6a4pZWKRo"
   },
   "source": [
    "A set is an unordered collection of distinct elements. As a simple example, consider the following:"
   ]
  },
  {
   "cell_type": "code",
   "execution_count": 26,
   "metadata": {
    "id": "4TPSu65sWKRo"
   },
   "outputs": [
    {
     "name": "stdout",
     "output_type": "stream",
     "text": [
      "True\n",
      "False\n",
      "True\n",
      "3\n",
      "3\n",
      "2\n"
     ]
    }
   ],
   "source": [
    "animals = {'cat', 'dog'}\n",
    "print('cat' in animals)   # Check if an element is in a set; prints \"True\"\n",
    "print('fish' in animals)  # prints \"False\"\n",
    "animals.add('fish')       # Add an element to a set\n",
    "print('fish' in animals)  # Prints \"True\"\n",
    "print(len(animals))       # Number of elements in a set; prints \"3\"\n",
    "animals.add('cat')        # Adding an element that is already in the set does nothing\n",
    "print(len(animals))       # Prints \"3\"\n",
    "animals.remove('cat')     # Remove an element from a set\n",
    "print(len(animals))       # Prints \"2\""
   ]
  },
  {
   "cell_type": "markdown",
   "metadata": {
    "id": "qzKB4Vu0WKRp"
   },
   "source": [
    "As usual, everything you want to know about sets can be found in the [documentation](https://docs.python.org/3.7/library/stdtypes.html#set)."
   ]
  },
  {
   "cell_type": "markdown",
   "metadata": {
    "id": "XujICTuEWKRq"
   },
   "source": [
    "##### Loops\n",
    "\n",
    "Iterating over a set has the same syntax as iterating over a list; however since sets are unordered, you cannot make assumptions about the order in which you visit the elements of the set:"
   ]
  },
  {
   "cell_type": "code",
   "execution_count": 27,
   "metadata": {
    "id": "QU7E9nAvWKRq"
   },
   "outputs": [
    {
     "name": "stdout",
     "output_type": "stream",
     "text": [
      "#1: cat\n",
      "#2: dog\n",
      "#3: fish\n"
     ]
    }
   ],
   "source": [
    "animals = {'cat', 'dog', 'fish'}\n",
    "for idx, animal in enumerate(animals):\n",
    "    print('#%d: %s' % (idx + 1, animal))\n",
    "# Prints \"#1: fish\", \"#2: cat\", \"#3: dog\""
   ]
  },
  {
   "cell_type": "markdown",
   "metadata": {
    "id": "jFCXy8BdWKRr"
   },
   "source": [
    "##### Set comprehensions\n",
    "\n",
    "Like lists and dictionaries, we can easily construct sets using set comprehensions:"
   ]
  },
  {
   "cell_type": "code",
   "execution_count": 28,
   "metadata": {
    "id": "01I1CuKvWKRr"
   },
   "outputs": [
    {
     "name": "stdout",
     "output_type": "stream",
     "text": [
      "{0, 1, 2, 3, 4, 5}\n"
     ]
    }
   ],
   "source": [
    "from math import sqrt\n",
    "nums = {int(sqrt(x)) for x in range(30)}\n",
    "print(nums)  # Prints \"{0, 1, 2, 3, 4, 5}\""
   ]
  },
  {
   "cell_type": "markdown",
   "metadata": {
    "id": "vY_VPNSrWKRs"
   },
   "source": [
    "#### Tuples"
   ]
  },
  {
   "cell_type": "markdown",
   "metadata": {
    "id": "fGZC4a0tWKRt"
   },
   "source": [
    "A tuple is an (immutable) ordered list of values. A tuple is in many ways similar to a list; one of the most important differences is that tuples can be used as keys in dictionaries and as elements of sets, while lists cannot. Here is a trivial example:"
   ]
  },
  {
   "cell_type": "code",
   "execution_count": 29,
   "metadata": {
    "id": "iJe5C--VWKRt"
   },
   "outputs": [
    {
     "name": "stdout",
     "output_type": "stream",
     "text": [
      "<class 'tuple'>\n",
      "5\n",
      "1\n"
     ]
    }
   ],
   "source": [
    "d = {(x, x + 1): x for x in range(10)}  # Create a dictionary with tuple keys\n",
    "t = (5, 6)        # Create a tuple\n",
    "print(type(t))    # Prints \"<class 'tuple'>\"\n",
    "print(d[t])       # Prints \"5\"\n",
    "print(d[(1, 2)])  # Prints \"1\""
   ]
  },
  {
   "cell_type": "markdown",
   "metadata": {
    "id": "HLjBlI0IWKRt"
   },
   "source": [
    "The [documentation](https://docs.python.org/3.7/tutorial/datastructures.html#tuples-and-sequences) has more information about tuples."
   ]
  },
  {
   "cell_type": "markdown",
   "metadata": {
    "id": "uBOJVmqMWKRt"
   },
   "source": [
    "### Functions"
   ]
  },
  {
   "cell_type": "markdown",
   "metadata": {
    "id": "Jei3ft82WKRu"
   },
   "source": [
    "Python functions are defined using the `def` keyword. For example:"
   ]
  },
  {
   "cell_type": "code",
   "execution_count": 30,
   "metadata": {
    "id": "4C-aNT7iWKRu"
   },
   "outputs": [
    {
     "name": "stdout",
     "output_type": "stream",
     "text": [
      "negative\n",
      "zero\n",
      "positive\n"
     ]
    }
   ],
   "source": [
    "def sign(x):\n",
    "    if x > 0:\n",
    "        return 'positive'\n",
    "    elif x < 0:\n",
    "        return 'negative'\n",
    "    else:\n",
    "        return 'zero'\n",
    "\n",
    "for x in [-1, 0, 1]:\n",
    "    print(sign(x))\n",
    "# Prints \"negative\", \"zero\", \"positive\""
   ]
  },
  {
   "cell_type": "markdown",
   "metadata": {
    "id": "cFAuVS7kWKRw"
   },
   "source": [
    "We will often define functions to take optional keyword arguments, like this:"
   ]
  },
  {
   "cell_type": "code",
   "execution_count": 31,
   "metadata": {
    "id": "t-648u1gWKRx"
   },
   "outputs": [
    {
     "name": "stdout",
     "output_type": "stream",
     "text": [
      "Hello, Bob\n",
      "HELLO, FRED!\n"
     ]
    }
   ],
   "source": [
    "def hello(name, loud=False):\n",
    "    if loud:\n",
    "        print('HELLO, %s!' % name.upper())\n",
    "    else:\n",
    "        print('Hello, %s' % name)\n",
    "\n",
    "hello('Bob') # Prints \"Hello, Bob\"\n",
    "hello('Fred', loud=True)  # Prints \"HELLO, FRED!\""
   ]
  },
  {
   "cell_type": "markdown",
   "metadata": {
    "id": "0X6CcKdsWKRz"
   },
   "source": [
    "There is a lot more information about Python functions in the [documentation](https://docs.python.org/3.7/tutorial/controlflow.html#defining-functions)."
   ]
  },
  {
   "cell_type": "markdown",
   "metadata": {
    "id": "UAoEJA8V-0xM"
   },
   "source": [
    "#### Lambda Functions\n",
    "These are anonymous functions in Python which take any number of arguments but only one expression. Syntax:\n",
    "`lambda arguments : expression`. They are one line function and expression are representing the body of a normal function."
   ]
  },
  {
   "cell_type": "code",
   "execution_count": 32,
   "metadata": {
    "id": "49LbTQdQAs0V"
   },
   "outputs": [
    {
     "name": "stdout",
     "output_type": "stream",
     "text": [
      "7\n",
      "6000\n"
     ]
    }
   ],
   "source": [
    "l = lambda a : a+5  ## lambda function 'l' is created which is taking 'a' as an argument and expression adds 5 to the value of argument a\n",
    "print(l(2))  ## passing 2 as value of 'a' argument of lambda function 'l' . This will return 7(7 = 2+5) as output.\n",
    "\n",
    "l1 = lambda a,b,c : a * b * c ## lambda function 'l1' is created which is taking 3 arguments (a,b,c) and return the result by multiplying them all.\n",
    "print(l1(10,20,30))  ## passing 10,20,30 as arguments 'a', 'b', 'c' respectively to 'l1' function. Print result 6000 (6000 = 10*20*30)"
   ]
  },
  {
   "cell_type": "markdown",
   "metadata": {
    "id": "ZMq_za7-Cwvm"
   },
   "source": [
    "We can use Lambda function anonymously inside other functions. Example is shown below"
   ]
  },
  {
   "cell_type": "code",
   "execution_count": 33,
   "metadata": {
    "id": "KJivSg5lDAHo"
   },
   "outputs": [
    {
     "name": "stdout",
     "output_type": "stream",
     "text": [
      "24\n"
     ]
    }
   ],
   "source": [
    "def func(n):  ## define a function that takes argument 'n' and returns a lambda function after multiplying some unknown argument 'a' with given 'n'\n",
    "  return lambda a: a*n\n",
    "\n",
    "l2 = func(4)  ## passing 4 as value of 'n' in 'func' function. This will return lambda function 'l2' where n is assigned a value of 4.\n",
    "print(l2(6)) ## This will call lambda function 'l2' where 6 is given as value for argument 'a'. Print 24(24 = 6*4) as result"
   ]
  },
  {
   "cell_type": "markdown",
   "metadata": {
    "id": "xQNGLLXKWKRz"
   },
   "source": [
    "### Classes"
   ]
  },
  {
   "cell_type": "markdown",
   "metadata": {
    "id": "6SGqEAprWKR0"
   },
   "source": [
    "The syntax for defining classes in Python is straightforward:"
   ]
  },
  {
   "cell_type": "code",
   "execution_count": 34,
   "metadata": {
    "id": "qIBGkxIhWKR1"
   },
   "outputs": [
    {
     "name": "stdout",
     "output_type": "stream",
     "text": [
      "Hello, Fred\n",
      "HELLO, FRED!\n"
     ]
    }
   ],
   "source": [
    "class Greeter(object):\n",
    "\n",
    "    # Constructor\n",
    "    def __init__(self, name):\n",
    "        self.name = name  # Create an instance variable\n",
    "\n",
    "    # Instance method\n",
    "    def greet(self, loud=False):\n",
    "        if loud:\n",
    "            print('HELLO, %s!' % self.name.upper())\n",
    "        else:\n",
    "            print('Hello, %s' % self.name)\n",
    "\n",
    "g = Greeter('Fred')  # Construct an instance of the Greeter class\n",
    "g.greet()            # Call an instance method; prints \"Hello, Fred\"\n",
    "g.greet(loud=True)   # Call an instance method; prints \"HELLO, FRED!\""
   ]
  },
  {
   "cell_type": "markdown",
   "metadata": {
    "id": "wjqA7mYRWKR1"
   },
   "source": [
    "You can read a lot more about Python classes in the [documentation](https://docs.python.org/3.7/tutorial/classes.html)."
   ]
  },
  {
   "cell_type": "markdown",
   "metadata": {
    "id": "42h3QLCSWKR3"
   },
   "source": [
    "## Numpy"
   ]
  },
  {
   "cell_type": "markdown",
   "metadata": {
    "id": "zU2WaCbkWKR3"
   },
   "source": [
    "[Numpy](https://numpy.org/) is the core library for scientific computing in Python. It provides a high-performance multidimensional array object, and tools for working with these arrays."
   ]
  },
  {
   "cell_type": "markdown",
   "metadata": {
    "id": "g589xsxOWKR4"
   },
   "source": [
    "To use Numpy, we first need to import the `numpy` package:"
   ]
  },
  {
   "cell_type": "code",
   "execution_count": 35,
   "metadata": {
    "id": "LTTqN8XzWKR4"
   },
   "outputs": [],
   "source": [
    "import numpy as np"
   ]
  },
  {
   "cell_type": "markdown",
   "metadata": {
    "id": "n9VDoMTUWKR5"
   },
   "source": [
    "### Arrays"
   ]
  },
  {
   "cell_type": "markdown",
   "metadata": {
    "id": "bobIuV-dWKR6"
   },
   "source": [
    "A numpy array is a grid of values, all of the same type, and is indexed by a tuple of nonnegative integers. The number of dimensions is the rank of the array; the shape of an array is a tuple of integers giving the size of the array along each dimension."
   ]
  },
  {
   "cell_type": "markdown",
   "metadata": {
    "id": "jPWmsGeuWKR6"
   },
   "source": [
    "We can initialize numpy arrays from nested Python lists, and access elements using square brackets:"
   ]
  },
  {
   "cell_type": "code",
   "execution_count": 36,
   "metadata": {
    "id": "BmJsPbzLWKR7"
   },
   "outputs": [
    {
     "name": "stdout",
     "output_type": "stream",
     "text": [
      "<class 'numpy.ndarray'>\n",
      "(3,)\n",
      "1 2 3\n",
      "[5 2 3]\n",
      "(2, 3)\n",
      "1 2 4\n"
     ]
    }
   ],
   "source": [
    "a = np.array([1, 2, 3])   # Create a rank 1 array\n",
    "print(type(a))            # Prints \"<class 'numpy.ndarray'>\"\n",
    "print(a.shape)            # Prints \"(3,)\"\n",
    "print(a[0], a[1], a[2])   # Prints \"1 2 3\"\n",
    "a[0] = 5                  # Change an element of the array\n",
    "print(a)                  # Prints \"[5, 2, 3]\"\n",
    "\n",
    "b = np.array([[1,2,3],[4,5,6]])    # Create a rank 2 array\n",
    "print(b.shape)                     # Prints \"(2, 3)\"\n",
    "print(b[0, 0], b[0, 1], b[1, 0])   # Prints \"1 2 4\""
   ]
  },
  {
   "cell_type": "markdown",
   "metadata": {
    "id": "j9YOQcsOWKR7"
   },
   "source": [
    "Numpy also provides many functions to create arrays:"
   ]
  },
  {
   "cell_type": "code",
   "execution_count": 37,
   "metadata": {
    "id": "Oq-lu5hVWKR8"
   },
   "outputs": [
    {
     "name": "stdout",
     "output_type": "stream",
     "text": [
      "[[0. 0.]\n",
      " [0. 0.]]\n",
      "[[1. 1.]]\n",
      "[[7 7]\n",
      " [7 7]]\n",
      "[[1. 0.]\n",
      " [0. 1.]]\n",
      "[[0.20122107 0.21479141]\n",
      " [0.46992761 0.25116078]]\n"
     ]
    }
   ],
   "source": [
    "a = np.zeros((2,2))   # Create an array of all zeros\n",
    "print(a)              # Prints \"[[ 0.  0.]\n",
    "                      #          [ 0.  0.]]\"\n",
    "\n",
    "b = np.ones((1,2))    # Create an array of all ones\n",
    "print(b)              # Prints \"[[ 1.  1.]]\"\n",
    "\n",
    "c = np.full((2,2), 7)  # Create a constant array\n",
    "print(c)               # Prints \"[[ 7.  7.]\n",
    "                       #          [ 7.  7.]]\"\n",
    "\n",
    "d = np.eye(2)         # Create a 2x2 identity matrix\n",
    "print(d)              # Prints \"[[ 1.  0.]\n",
    "                      #          [ 0.  1.]]\"\n",
    "\n",
    "e = np.random.random((2,2))  # Create an array filled with random values\n",
    "print(e)                     # Might print \"[[ 0.91940167  0.08143941]\n",
    "                             #               [ 0.68744134  0.87236687]]\""
   ]
  },
  {
   "cell_type": "markdown",
   "metadata": {
    "id": "7QNOLklPWKR9"
   },
   "source": [
    "You can read about other methods of array creation in the [documentation](https://docs.scipy.org/doc/numpy/user/basics.creation.html#arrays-creation)."
   ]
  },
  {
   "cell_type": "markdown",
   "metadata": {
    "id": "U6fnf7AVWKR9"
   },
   "source": [
    "### Array indexing"
   ]
  },
  {
   "cell_type": "markdown",
   "metadata": {
    "id": "NegrMjkKWKR-"
   },
   "source": [
    "Numpy offers several ways to index into arrays."
   ]
  },
  {
   "cell_type": "markdown",
   "metadata": {
    "id": "jSIFZAlWWKR-"
   },
   "source": [
    "#### Slicing\n",
    "\n",
    "Similar to Python lists, numpy arrays can be sliced. Since arrays may be multidimensional, you must specify a slice for each dimension of the array:"
   ]
  },
  {
   "cell_type": "code",
   "execution_count": 38,
   "metadata": {
    "id": "XVNWtWt_WKR_"
   },
   "outputs": [
    {
     "name": "stdout",
     "output_type": "stream",
     "text": [
      "2\n",
      "77\n"
     ]
    }
   ],
   "source": [
    "# Create the following rank 2 array with shape (3, 4)\n",
    "# [[ 1  2  3  4]\n",
    "#  [ 5  6  7  8]\n",
    "#  [ 9 10 11 12]]\n",
    "a = np.array([[1,2,3,4], [5,6,7,8], [9,10,11,12]])\n",
    "\n",
    "# Use slicing to pull out the subarray consisting of the first 2 rows\n",
    "# and columns 1 and 2; b is the following array of shape (2, 2):\n",
    "# [[2 3]\n",
    "#  [6 7]]\n",
    "b = a[:2, 1:3]\n",
    "\n",
    "# A slice of an array is a view into the same data, so modifying it\n",
    "# will modify the original array.\n",
    "print(a[0, 1])   # Prints \"2\"\n",
    "b[0, 0] = 77     # b[0, 0] is the same piece of data as a[0, 1]\n",
    "print(a[0, 1])   # Prints \"77\""
   ]
  },
  {
   "cell_type": "markdown",
   "metadata": {
    "id": "1F5mB7crWKR_"
   },
   "source": [
    "You can also mix integer indexing with slice indexing. However, doing so will yield an array of lower rank than the original array:"
   ]
  },
  {
   "cell_type": "code",
   "execution_count": 39,
   "metadata": {
    "id": "xWFd9PbyWKSA"
   },
   "outputs": [
    {
     "name": "stdout",
     "output_type": "stream",
     "text": [
      "[5 6 7 8] (4,)\n",
      "[[5 6 7 8]] (1, 4)\n",
      "[ 2  6 10] (3,)\n",
      "[[ 2]\n",
      " [ 6]\n",
      " [10]] (3, 1)\n"
     ]
    }
   ],
   "source": [
    "# Create the following rank 2 array with shape (3, 4)\n",
    "# [[ 1  2  3  4]\n",
    "#  [ 5  6  7  8]\n",
    "#  [ 9 10 11 12]]\n",
    "a = np.array([[1,2,3,4], [5,6,7,8], [9,10,11,12]])\n",
    "\n",
    "# Two ways of accessing the data in the middle row of the array.\n",
    "# Mixing integer indexing with slices yields an array of lower rank,\n",
    "# while using only slices yields an array of the same rank as the\n",
    "# original array:\n",
    "row_r1 = a[1, :]    # Rank 1 view of the second row of a\n",
    "row_r2 = a[1:2, :]  # Rank 2 view of the second row of a\n",
    "print(row_r1, row_r1.shape)  # Prints \"[5 6 7 8] (4,)\"\n",
    "print(row_r2, row_r2.shape)  # Prints \"[[5 6 7 8]] (1, 4)\"\n",
    "\n",
    "# We can make the same distinction when accessing columns of an array:\n",
    "col_r1 = a[:, 1]\n",
    "col_r2 = a[:, 1:2]\n",
    "print(col_r1, col_r1.shape)  # Prints \"[ 2  6 10] (3,)\"\n",
    "print(col_r2, col_r2.shape)  # Prints \"[[ 2]\n",
    "                             #          [ 6]\n",
    "                             #          [10]] (3, 1)\""
   ]
  },
  {
   "cell_type": "markdown",
   "metadata": {
    "id": "BWJe42ZzWKSA"
   },
   "source": [
    "#### Integer array indexing\n",
    "\n",
    "When you index into numpy arrays using slicing, the resulting array view will always be a subarray of the original array. In contrast, integer array indexing allows you to construct arbitrary arrays using the data from another array. Here is an example:"
   ]
  },
  {
   "cell_type": "code",
   "execution_count": 40,
   "metadata": {
    "id": "8bME80H_WKSB"
   },
   "outputs": [
    {
     "name": "stdout",
     "output_type": "stream",
     "text": [
      "[1 4 5]\n",
      "[1 4 5]\n",
      "[2 2]\n",
      "[2 2]\n"
     ]
    }
   ],
   "source": [
    "a = np.array([[1,2], [3, 4], [5, 6]])\n",
    "\n",
    "# An example of integer array indexing.\n",
    "# The returned array will have shape (3,) and\n",
    "print(a[[0, 1, 2], [0, 1, 0]])  # Prints \"[1 4 5]\"\n",
    "\n",
    "# The above example of integer array indexing is equivalent to this:\n",
    "print(np.array([a[0, 0], a[1, 1], a[2, 0]]))  # Prints \"[1 4 5]\"\n",
    "\n",
    "# When using integer array indexing, you can reuse the same\n",
    "# element from the source array:\n",
    "print(a[[0, 0], [1, 1]])  # Prints \"[2 2]\"\n",
    "\n",
    "# Equivalent to the previous integer array indexing example\n",
    "print(np.array([a[0, 1], a[0, 1]]))  # Prints \"[2 2]\""
   ]
  },
  {
   "cell_type": "markdown",
   "metadata": {
    "id": "Kcjct936WKSE"
   },
   "source": [
    "One useful trick with integer array indexing is selecting or mutating one element from each row of a matrix:"
   ]
  },
  {
   "cell_type": "code",
   "execution_count": 41,
   "metadata": {
    "id": "P5UW9D2tWKSF"
   },
   "outputs": [
    {
     "name": "stdout",
     "output_type": "stream",
     "text": [
      "[[ 1  2  3]\n",
      " [ 4  5  6]\n",
      " [ 7  8  9]\n",
      " [10 11 12]]\n",
      "[ 1  6  7 11]\n",
      "[[11  2  3]\n",
      " [ 4  5 16]\n",
      " [17  8  9]\n",
      " [10 21 12]]\n"
     ]
    }
   ],
   "source": [
    "# Create a new array from which we will select elements\n",
    "a = np.array([[1,2,3], [4,5,6], [7,8,9], [10, 11, 12]])\n",
    "\n",
    "print(a)  # prints \"array([[ 1,  2,  3],\n",
    "          #                [ 4,  5,  6],\n",
    "          #                [ 7,  8,  9],\n",
    "          #                [10, 11, 12]])\"\n",
    "\n",
    "# Create an array of indices\n",
    "b = np.array([0, 2, 0, 1])\n",
    "\n",
    "# Select one element from each row of a using the indices in b\n",
    "print(a[np.arange(4), b])  # Prints \"[ 1  6  7 11]\"\n",
    "\n",
    "# Mutate one element from each row of a using the indices in b\n",
    "a[np.arange(4), b] += 10\n",
    "\n",
    "print(a)  # prints \"array([[11,  2,  3],\n",
    "          #                [ 4,  5, 16],\n",
    "          #                [17,  8,  9],\n",
    "          #                [10, 21, 12]])"
   ]
  },
  {
   "cell_type": "markdown",
   "metadata": {
    "id": "ellIekboWKSH"
   },
   "source": [
    "#### Boolean array indexing\n",
    "\n",
    "Boolean array indexing lets you pick out arbitrary elements of an array. Frequently this type of indexing is used to select the elements of an array that satisfy some condition. Here is an example:"
   ]
  },
  {
   "cell_type": "code",
   "execution_count": 42,
   "metadata": {
    "id": "BEBKkhaLWKSH"
   },
   "outputs": [
    {
     "name": "stdout",
     "output_type": "stream",
     "text": [
      "[[False False]\n",
      " [ True  True]\n",
      " [ True  True]]\n",
      "[3 4 5 6]\n",
      "[3 4 5 6]\n"
     ]
    }
   ],
   "source": [
    "a = np.array([[1,2], [3, 4], [5, 6]])\n",
    "\n",
    "bool_idx = (a > 2)   # Find the elements of a that are bigger than 2;\n",
    "                     # this returns a numpy array of Booleans of the same\n",
    "                     # shape as a, where each slot of bool_idx tells\n",
    "                     # whether that element of a is > 2.\n",
    "\n",
    "print(bool_idx)      # Prints \"[[False False]\n",
    "                     #          [ True  True]\n",
    "                     #          [ True  True]]\"\n",
    "\n",
    "# We use boolean array indexing to construct a rank 1 array\n",
    "# consisting of the elements of a corresponding to the True values\n",
    "# of bool_idx\n",
    "print(a[bool_idx])  # Prints \"[3 4 5 6]\"\n",
    "\n",
    "# We can do all of the above in a single concise statement:\n",
    "print(a[a > 2])     # Prints \"[3 4 5 6]\""
   ]
  },
  {
   "cell_type": "markdown",
   "metadata": {
    "id": "ddW5arpNWKSI"
   },
   "source": [
    "For brevity we have left out a lot of details about numpy array indexing; if you want to know more you should read the [documentation](https://docs.scipy.org/doc/numpy/reference/arrays.indexing.html)."
   ]
  },
  {
   "cell_type": "markdown",
   "metadata": {
    "id": "u2lHw5BsWKSI"
   },
   "source": [
    "### Datatypes"
   ]
  },
  {
   "cell_type": "markdown",
   "metadata": {
    "id": "n69riEsDWKSI"
   },
   "source": [
    "Every numpy array is a grid of elements of the same type. Numpy provides a large set of numeric datatypes that you can use to construct arrays. Numpy tries to guess a datatype when you create an array, but functions that construct arrays usually also include an optional argument to explicitly specify the datatype. Here is an example:"
   ]
  },
  {
   "cell_type": "code",
   "execution_count": 43,
   "metadata": {
    "id": "j056PH3yWKSJ"
   },
   "outputs": [
    {
     "name": "stdout",
     "output_type": "stream",
     "text": [
      "int64\n",
      "float64\n",
      "int64\n"
     ]
    }
   ],
   "source": [
    "x = np.array([1, 2])   # Let numpy choose the datatype\n",
    "print(x.dtype)         # Prints \"int64\"\n",
    "\n",
    "x = np.array([1.0, 2.0])   # Let numpy choose the datatype\n",
    "print(x.dtype)             # Prints \"float64\"\n",
    "\n",
    "x = np.array([1, 2], dtype=np.int64)   # Force a particular datatype\n",
    "print(x.dtype)                         # Prints \"int64\""
   ]
  },
  {
   "cell_type": "markdown",
   "metadata": {
    "id": "V_Oie3GTWKSJ"
   },
   "source": [
    "You can read all about numpy datatypes in the [documentation](https://docs.scipy.org/doc/numpy/reference/arrays.dtypes.html)."
   ]
  },
  {
   "cell_type": "markdown",
   "metadata": {
    "id": "W6O03EaaWKSJ"
   },
   "source": [
    "### Array math"
   ]
  },
  {
   "cell_type": "markdown",
   "metadata": {
    "id": "_oImgJjgWKSK"
   },
   "source": [
    "Basic mathematical functions operate elementwise on arrays, and are available both as operator overloads and as functions in the numpy module:"
   ]
  },
  {
   "cell_type": "code",
   "execution_count": 44,
   "metadata": {
    "id": "eXMzKEmiWKSK"
   },
   "outputs": [
    {
     "name": "stdout",
     "output_type": "stream",
     "text": [
      "[[ 6.  8.]\n",
      " [10. 12.]]\n",
      "[[ 6.  8.]\n",
      " [10. 12.]]\n",
      "[[-4. -4.]\n",
      " [-4. -4.]]\n",
      "[[-4. -4.]\n",
      " [-4. -4.]]\n",
      "[[ 5. 12.]\n",
      " [21. 32.]]\n",
      "[[ 5. 12.]\n",
      " [21. 32.]]\n",
      "[[0.2        0.33333333]\n",
      " [0.42857143 0.5       ]]\n",
      "[[0.2        0.33333333]\n",
      " [0.42857143 0.5       ]]\n",
      "[[1.         1.41421356]\n",
      " [1.73205081 2.        ]]\n"
     ]
    }
   ],
   "source": [
    "x = np.array([[1,2],[3,4]], dtype=np.float64)\n",
    "y = np.array([[5,6],[7,8]], dtype=np.float64)\n",
    "\n",
    "# Elementwise sum; both produce the array\n",
    "# [[ 6.0  8.0]\n",
    "#  [10.0 12.0]]\n",
    "print(x + y)\n",
    "print(np.add(x, y))\n",
    "\n",
    "# Elementwise difference; both produce the array\n",
    "# [[-4.0 -4.0]\n",
    "#  [-4.0 -4.0]]\n",
    "print(x - y)\n",
    "print(np.subtract(x, y))\n",
    "\n",
    "# Elementwise product; both produce the array\n",
    "# [[ 5.0 12.0]\n",
    "#  [21.0 32.0]]\n",
    "print(x * y)\n",
    "print(np.multiply(x, y))\n",
    "\n",
    "# Elementwise division; both produce the array\n",
    "# [[ 0.2         0.33333333]\n",
    "#  [ 0.42857143  0.5       ]]\n",
    "print(x / y)\n",
    "print(np.divide(x, y))\n",
    "\n",
    "# Elementwise square root; produces the array\n",
    "# [[ 1.          1.41421356]\n",
    "#  [ 1.73205081  2.        ]]\n",
    "print(np.sqrt(x))"
   ]
  },
  {
   "cell_type": "markdown",
   "metadata": {
    "id": "xDSCM-UoWKSL"
   },
   "source": [
    "We use the dot function to compute inner products of vectors, to multiply a vector by a matrix, and to multiply matrices. dot is available both as a function in the numpy module and as an instance method of array objects:"
   ]
  },
  {
   "cell_type": "code",
   "execution_count": 45,
   "metadata": {
    "id": "v4NoMOoiWKSM"
   },
   "outputs": [
    {
     "name": "stdout",
     "output_type": "stream",
     "text": [
      "219\n",
      "219\n",
      "[29 67]\n",
      "[29 67]\n",
      "[[19 22]\n",
      " [43 50]]\n",
      "[[19 22]\n",
      " [43 50]]\n"
     ]
    }
   ],
   "source": [
    "x = np.array([[1,2],[3,4]])\n",
    "y = np.array([[5,6],[7,8]])\n",
    "\n",
    "v = np.array([9,10])\n",
    "w = np.array([11, 12])\n",
    "\n",
    "# Inner product of vectors; both produce 219\n",
    "print(v.dot(w))\n",
    "print(np.dot(v, w))\n",
    "\n",
    "# Matrix / vector product; both produce the rank 1 array [29 67]\n",
    "print(x.dot(v))\n",
    "print(np.dot(x, v))\n",
    "\n",
    "# Matrix / matrix product; both produce the rank 2 array\n",
    "# [[19 22]\n",
    "#  [43 50]]\n",
    "print(x.dot(y))\n",
    "print(np.dot(x, y))"
   ]
  },
  {
   "cell_type": "markdown",
   "metadata": {
    "id": "1D70_KurWKSM"
   },
   "source": [
    "Numpy provides many useful functions for performing computations on arrays; one of the most useful is `sum`:"
   ]
  },
  {
   "cell_type": "code",
   "execution_count": 46,
   "metadata": {
    "id": "rV2-npEjWKSM"
   },
   "outputs": [
    {
     "name": "stdout",
     "output_type": "stream",
     "text": [
      "10\n",
      "[4 6]\n",
      "[3 7]\n"
     ]
    }
   ],
   "source": [
    "x = np.array([[1,2],[3,4]])\n",
    "\n",
    "print(np.sum(x))  # Compute sum of all elements; prints \"10\"\n",
    "print(np.sum(x, axis=0))  # Compute sum of each column; prints \"[4 6]\"\n",
    "print(np.sum(x, axis=1))  # Compute sum of each row; prints \"[3 7]\""
   ]
  },
  {
   "cell_type": "markdown",
   "metadata": {
    "id": "S6CC77cnWKSN"
   },
   "source": [
    "You can find the full list of mathematical functions provided by numpy in the [documentation](https://docs.scipy.org/doc/numpy/reference/routines.math.html).\n",
    "\n",
    "Apart from computing mathematical functions using arrays, we frequently need to reshape or otherwise manipulate data in arrays. The simplest example of this type of operation is transposing a matrix; to transpose a matrix, simply use the T attribute of an array object:"
   ]
  },
  {
   "cell_type": "code",
   "execution_count": 47,
   "metadata": {
    "id": "zDab1bssWKSN"
   },
   "outputs": [
    {
     "name": "stdout",
     "output_type": "stream",
     "text": [
      "[[1 2]\n",
      " [3 4]]\n",
      "[[1 3]\n",
      " [2 4]]\n",
      "[1 2 3]\n",
      "[1 2 3]\n"
     ]
    }
   ],
   "source": [
    "x = np.array([[1,2], [3,4]])\n",
    "print(x)    # Prints \"[[1 2]\n",
    "            #          [3 4]]\"\n",
    "print(x.T)  # Prints \"[[1 3]\n",
    "            #          [2 4]]\"\n",
    "\n",
    "# Note that taking the transpose of a rank 1 array does nothing:\n",
    "v = np.array([1,2,3])\n",
    "print(v)    # Prints \"[1 2 3]\"\n",
    "print(v.T)  # Prints \"[1 2 3]\""
   ]
  },
  {
   "cell_type": "markdown",
   "metadata": {
    "id": "7sYNo5d-WKSO"
   },
   "source": [
    "Numpy provides many more functions for manipulating arrays; you can see the full list in the [documentation](https://docs.scipy.org/doc/numpy/reference/routines.array-manipulation.html)."
   ]
  },
  {
   "cell_type": "markdown",
   "metadata": {
    "id": "fuld54y4WKSO"
   },
   "source": [
    "### Broadcasting"
   ]
  },
  {
   "cell_type": "markdown",
   "metadata": {
    "id": "MWTOmS2FWKSP"
   },
   "source": [
    "Broadcasting is a powerful mechanism that allows numpy to work with arrays of different shapes when performing arithmetic operations. Frequently we have a smaller array and a larger array, and we want to use the smaller array multiple times to perform some operation on the larger array.\n",
    "\n",
    "For example, suppose that we want to add a constant vector to each row of a matrix. We could do it like this:"
   ]
  },
  {
   "cell_type": "code",
   "execution_count": 48,
   "metadata": {
    "id": "FhNRmwXKWKSP"
   },
   "outputs": [
    {
     "name": "stdout",
     "output_type": "stream",
     "text": [
      "[[ 2  2  4]\n",
      " [ 5  5  7]\n",
      " [ 8  8 10]\n",
      " [11 11 13]]\n"
     ]
    }
   ],
   "source": [
    "# We will add the vector v to each row of the matrix x,\n",
    "# storing the result in the matrix y\n",
    "x = np.array([[1,2,3], [4,5,6], [7,8,9], [10, 11, 12]])\n",
    "v = np.array([1, 0, 1])\n",
    "y = np.empty_like(x)   # Create an empty matrix with the same shape as x\n",
    "\n",
    "# Add the vector v to each row of the matrix x with an explicit loop\n",
    "for i in range(4):\n",
    "    y[i, :] = x[i, :] + v\n",
    "\n",
    "# Now y is the following\n",
    "# [[ 2  2  4]\n",
    "#  [ 5  5  7]\n",
    "#  [ 8  8 10]\n",
    "#  [11 11 13]]\n",
    "print(y)"
   ]
  },
  {
   "cell_type": "markdown",
   "metadata": {
    "id": "z_Lk23RrWKSQ"
   },
   "source": [
    "This works; however when the matrix `x` is very large, computing an explicit loop in Python could be slow. Note that adding the vector `v` to each row of the matrix `x` is equivalent to forming a matrix `vv` by stacking multiple copies of `v` vertically, then performing elementwise summation of `x` and `vv`. We could implement this approach like this:"
   ]
  },
  {
   "cell_type": "code",
   "execution_count": 49,
   "metadata": {
    "id": "FLw5y_KoWKSQ"
   },
   "outputs": [
    {
     "name": "stdout",
     "output_type": "stream",
     "text": [
      "[[1 0 1]\n",
      " [1 0 1]\n",
      " [1 0 1]\n",
      " [1 0 1]]\n",
      "[[ 2  2  4]\n",
      " [ 5  5  7]\n",
      " [ 8  8 10]\n",
      " [11 11 13]]\n"
     ]
    }
   ],
   "source": [
    "# We will add the vector v to each row of the matrix x,\n",
    "# storing the result in the matrix y\n",
    "x = np.array([[1,2,3], [4,5,6], [7,8,9], [10, 11, 12]])\n",
    "v = np.array([1, 0, 1])\n",
    "vv = np.tile(v, (4, 1))   # Stack 4 copies of v on top of each other\n",
    "print(vv)                 # Prints \"[[1 0 1]\n",
    "                          #          [1 0 1]\n",
    "                          #          [1 0 1]\n",
    "                          #          [1 0 1]]\"\n",
    "y = x + vv  # Add x and vv elementwise\n",
    "print(y)  # Prints \"[[ 2  2  4\n",
    "          #          [ 5  5  7]\n",
    "          #          [ 8  8 10]\n",
    "          #          [11 11 13]]\""
   ]
  },
  {
   "cell_type": "markdown",
   "metadata": {
    "id": "4zIopNHsWKSR"
   },
   "source": [
    "Numpy broadcasting allows us to perform this computation without actually creating multiple copies of `v`. Consider this version, using broadcasting:"
   ]
  },
  {
   "cell_type": "code",
   "execution_count": 50,
   "metadata": {
    "id": "XlD0dy8iWKSR"
   },
   "outputs": [
    {
     "name": "stdout",
     "output_type": "stream",
     "text": [
      "[[ 2  2  4]\n",
      " [ 5  5  7]\n",
      " [ 8  8 10]\n",
      " [11 11 13]]\n"
     ]
    }
   ],
   "source": [
    "# We will add the vector v to each row of the matrix x,\n",
    "# storing the result in the matrix y\n",
    "x = np.array([[1,2,3], [4,5,6], [7,8,9], [10, 11, 12]])\n",
    "v = np.array([1, 0, 1])\n",
    "y = x + v  # Add v to each row of x using broadcasting\n",
    "print(y)  # Prints \"[[ 2  2  4]\n",
    "          #          [ 5  5  7]\n",
    "          #          [ 8  8 10]\n",
    "          #          [11 11 13]]\""
   ]
  },
  {
   "cell_type": "markdown",
   "metadata": {
    "id": "U9sJAgKBWKSS"
   },
   "source": [
    "The line `y = x + v` works even though `x` has shape `(4, 3)` and `v` has shape `(3,)` due to broadcasting; this line works as if `v` actually had shape `(4, 3)`, where each row was a copy of `v`, and the sum was performed elementwise.\n",
    "\n",
    "Broadcasting two arrays together follows these rules:\n",
    "\n",
    "If the arrays do not have the same rank, prepend the shape of the lower rank array with 1s until both shapes have the same length.\n",
    "The two arrays are said to be compatible in a dimension if they have the same size in the dimension, or if one of the arrays has size 1 in that dimension.\n",
    "The arrays can be broadcast together if they are compatible in all dimensions.\n",
    "After broadcasting, each array behaves as if it had shape equal to the elementwise maximum of shapes of the two input arrays.\n",
    "In any dimension where one array had size 1 and the other array had size greater than 1, the first array behaves as if it were copied along that dimension\n",
    "If this explanation does not make sense, try reading the explanation from the [documentation](https://docs.scipy.org/doc/numpy/user/basics.broadcasting.html) or this [explanation](https://numpy.org/devdocs/user/theory.broadcasting.html).\n",
    "\n",
    "Functions that support broadcasting are known as universal functions. You can find the list of all universal functions in the [documentation](https://docs.scipy.org/doc/numpy/reference/ufuncs.html#available-ufuncs).\n",
    "\n",
    "Here are some applications of broadcasting:"
   ]
  },
  {
   "cell_type": "code",
   "execution_count": 51,
   "metadata": {
    "id": "61nwixDfWKST"
   },
   "outputs": [
    {
     "name": "stdout",
     "output_type": "stream",
     "text": [
      "[[ 4  5]\n",
      " [ 8 10]\n",
      " [12 15]]\n",
      "[[2 4 6]\n",
      " [5 7 9]]\n",
      "[[ 5  6  7]\n",
      " [ 9 10 11]]\n",
      "[[ 5  6  7]\n",
      " [ 9 10 11]]\n",
      "[[ 2  4  6]\n",
      " [ 8 10 12]]\n"
     ]
    }
   ],
   "source": [
    "# Compute outer product of vectors\n",
    "v = np.array([1,2,3])  # v has shape (3,)\n",
    "w = np.array([4,5])    # w has shape (2,)\n",
    "# To compute an outer product, we first reshape v to be a column\n",
    "# vector of shape (3, 1); we can then broadcast it against w to yield\n",
    "# an output of shape (3, 2), which is the outer product of v and w:\n",
    "# [[ 4  5]\n",
    "#  [ 8 10]\n",
    "#  [12 15]]\n",
    "print(np.reshape(v, (3, 1)) * w)\n",
    "\n",
    "# Add a vector to each row of a matrix\n",
    "x = np.array([[1,2,3], [4,5,6]])\n",
    "# x has shape (2, 3) and v has shape (3,) so they broadcast to (2, 3),\n",
    "# giving the following matrix:\n",
    "# [[2 4 6]\n",
    "#  [5 7 9]]\n",
    "print(x + v)\n",
    "\n",
    "# Add a vector to each column of a matrix\n",
    "# x has shape (2, 3) and w has shape (2,).\n",
    "# If we transpose x then it has shape (3, 2) and can be broadcast\n",
    "# against w to yield a result of shape (3, 2); transposing this result\n",
    "# yields the final result of shape (2, 3) which is the matrix x with\n",
    "# the vector w added to each column. Gives the following matrix:\n",
    "# [[ 5  6  7]\n",
    "#  [ 9 10 11]]\n",
    "print((x.T + w).T)\n",
    "# Another solution is to reshape w to be a column vector of shape (2, 1);\n",
    "# we can then broadcast it directly against x to produce the same\n",
    "# output.\n",
    "print(x + np.reshape(w, (2, 1)))\n",
    "\n",
    "# Multiply a matrix by a constant:\n",
    "# x has shape (2, 3). Numpy treats scalars as arrays of shape ();\n",
    "# these can be broadcast together to shape (2, 3), producing the\n",
    "# following array:\n",
    "# [[ 2  4  6]\n",
    "#  [ 8 10 12]]\n",
    "print(x * 2)"
   ]
  },
  {
   "cell_type": "markdown",
   "metadata": {
    "id": "REL7CA21WKSU"
   },
   "source": [
    "Broadcasting typically makes your code more concise and faster, so you should strive to use it where possible."
   ]
  },
  {
   "cell_type": "markdown",
   "metadata": {
    "id": "AeYhJt6_WKSV"
   },
   "source": [
    "This brief overview has touched on many of the important things that you need to know about numpy, but is far from complete. Check out the [numpy reference](https://docs.scipy.org/doc/numpy/reference/) to find out much more about numpy."
   ]
  },
  {
   "cell_type": "markdown",
   "metadata": {
    "id": "r0_WmUyYBhse"
   },
   "source": [
    "## Iterators\n",
    "\n",
    "Iterators are objects that contain countable number of values. Iterators can traverse the different structures like list, dictionaries, tuples, strings and sets etc through their values. The structures on which iterators can iterate on are called **iterable objects**. For example, we will make a list and return iterator from it.The `next()` function on iterator is called to get the next item from iterator."
   ]
  },
  {
   "cell_type": "code",
   "execution_count": 52,
   "metadata": {
    "id": "Il9UycHDC5zY"
   },
   "outputs": [
    {
     "name": "stdout",
     "output_type": "stream",
     "text": [
      "blue\n",
      "orange\n",
      "green\n",
      "yellow\n"
     ]
    }
   ],
   "source": [
    "mylist = ['blue', 'orange', 'green', 'yellow']  ## create a list 'mylist'\n",
    "itr = iter(mylist)  ## create an iterator of mylist using iter() function\n",
    "print(next(itr))  ## print 1st element of mylist\n",
    "print(next(itr))  ## print 2nd element of mylist\n",
    "print(next(itr))  ## print 3rd element of mylist\n",
    "print(next(itr))  ## print 4rth element of mylist"
   ]
  },
  {
   "cell_type": "markdown",
   "metadata": {
    "id": "ZHTOpnsbG1SC"
   },
   "source": [
    "## Zip in Python\n",
    "Zip function returns a zip object which is an iterator of tuples where first tuple represent the first enteries of the two passed tuples paired together, second tuple represents the second entries of passed tuples paired together and so on.\n",
    "Example below shows two tuples `a` and `b` passed as input to `zip` function to zip respective entries together.\n"
   ]
  },
  {
   "cell_type": "code",
   "execution_count": 53,
   "metadata": {
    "id": "tegAs3CVNEAG"
   },
   "outputs": [
    {
     "name": "stdout",
     "output_type": "stream",
     "text": [
      "(('2', '4'), ('3', '9'), ('4', '16'), ('5', '25'), ('6', '36'))\n"
     ]
    }
   ],
   "source": [
    "a = ('2', '3', '4', '5', '6')  ## create tuple 'a'\n",
    "b = ('4', '9', '16', '25', '36')  ## create b tuple 'b'\n",
    "z = zip(a,b) ## zip both tuples\n",
    "print(tuple(z)) ## print zip result. Will print (('2', '4'), ('3', '9'), ('4', '16'), ('5', '25'), ('6', '36'))"
   ]
  },
  {
   "cell_type": "markdown",
   "metadata": {
    "id": "YHuVQrcoQtSW"
   },
   "source": [
    "### Zip Lists\n",
    "\n",
    "Zip can also be used to zip entries of two lists together. Example is given below:"
   ]
  },
  {
   "cell_type": "code",
   "execution_count": 54,
   "metadata": {
    "id": "axC--DuyN6K2"
   },
   "outputs": [
    {
     "name": "stdout",
     "output_type": "stream",
     "text": [
      "[('l1', 's1'), ('l2', 's2'), ('l3', 's3'), ('l4', 's4'), ('l5', 's5')]\n"
     ]
    }
   ],
   "source": [
    "a = ['l1', 'l2', 'l3', 'l4', 'l5'] ## create list 'a'\n",
    "b = ['s1', 's2', 's3', 's4', 's5'] ## create tuple 'b'\n",
    "z = zip(a,b) ## zip both lists\n",
    "print(list(z))## print zip result. Will print [('l1', 's1'), ('l2', 's2'), ('l3', 's3'), ('l4', 's4'), ('l5', 's5')]"
   ]
  },
  {
   "cell_type": "markdown",
   "metadata": {
    "id": "vQMZ4_3ZNtnO"
   },
   "source": [
    "### Zip Lists to a dictionary\n",
    "We can zip entries of two lists together to form a dictionary. Given an example below use `zip` and `dict` functions. `dict` converts zip iterator to a dictionary."
   ]
  },
  {
   "cell_type": "code",
   "execution_count": 55,
   "metadata": {
    "id": "6qmO3agSPV_4"
   },
   "outputs": [
    {
     "name": "stdout",
     "output_type": "stream",
     "text": [
      "{'Alphabet C': 3452, 'VCPlus': 1127, 'TCS': 2750}\n"
     ]
    }
   ],
   "source": [
    "stocks = ['Alphabet C', 'VCPlus', 'TCS']  ## create list 'stocks'\n",
    "prices = [3452, 1127, 2750]  ## create list 'prices'\n",
    "dictionary = dict(zip(stocks, prices))   ## zip the two lists and convert zip object to a dictionary using dict()\n",
    "print(dictionary) ## print dictionary {'Alphabet C': 3452, 'VCPlus': 1127, 'TCS': 2750}"
   ]
  },
  {
   "cell_type": "markdown",
   "metadata": {
    "id": "jsQjzDRDTgnI"
   },
   "source": [
    "To read more on zip built-in function, refer to [documentation](https://docs.python.org/3/library/functions.html#zip) here."
   ]
  },
  {
   "cell_type": "markdown",
   "metadata": {
    "id": "IoCBqMS9WKSW"
   },
   "source": [
    "## Matplotlib"
   ]
  },
  {
   "cell_type": "markdown",
   "metadata": {
    "id": "6fcef1L8WKSW"
   },
   "source": [
    "[Matplotlib](https://matplotlib.org/) is a plotting library. In this section give a brief introduction to the `matplotlib.pyplot` module, which provides a plotting system similar to that of MATLAB."
   ]
  },
  {
   "cell_type": "code",
   "execution_count": 56,
   "metadata": {
    "id": "aa1Qp-9cWKSX"
   },
   "outputs": [
    {
     "ename": "ModuleNotFoundError",
     "evalue": "No module named 'matplotlib'",
     "output_type": "error",
     "traceback": [
      "\u001b[31m---------------------------------------------------------------------------\u001b[39m",
      "\u001b[31mModuleNotFoundError\u001b[39m                       Traceback (most recent call last)",
      "\u001b[36mCell\u001b[39m\u001b[36m \u001b[39m\u001b[32mIn[56]\u001b[39m\u001b[32m, line 1\u001b[39m\n\u001b[32m----> \u001b[39m\u001b[32m1\u001b[39m \u001b[38;5;28;01mimport\u001b[39;00m\u001b[38;5;250m \u001b[39m\u001b[34;01mmatplotlib\u001b[39;00m\u001b[34;01m.\u001b[39;00m\u001b[34;01mpyplot\u001b[39;00m\u001b[38;5;250m \u001b[39m\u001b[38;5;28;01mas\u001b[39;00m\u001b[38;5;250m \u001b[39m\u001b[34;01mplt\u001b[39;00m\n",
      "\u001b[31mModuleNotFoundError\u001b[39m: No module named 'matplotlib'"
     ]
    }
   ],
   "source": [
    "import matplotlib.pyplot as plt"
   ]
  },
  {
   "cell_type": "markdown",
   "metadata": {
    "id": "v9jjd93vWKSX"
   },
   "source": [
    "By running this special iPython command, we will be displaying plots inline:"
   ]
  },
  {
   "cell_type": "code",
   "execution_count": null,
   "metadata": {
    "id": "o0Fb-dJSWKSY"
   },
   "outputs": [],
   "source": [
    "%matplotlib inline"
   ]
  },
  {
   "cell_type": "markdown",
   "metadata": {
    "id": "Y70GeIJgWKSZ"
   },
   "source": [
    "### Plotting"
   ]
  },
  {
   "cell_type": "markdown",
   "metadata": {
    "id": "gjV_pGftWKSZ"
   },
   "source": [
    "The most important function in `matplotlib` is `plot`, which allows you to plot 2D data. Here is a simple example:"
   ]
  },
  {
   "cell_type": "code",
   "execution_count": null,
   "metadata": {
    "colab": {
     "base_uri": "https://localhost:8080/",
     "height": 265
    },
    "id": "Yu4-N8n-WKSa",
    "outputId": "80652f49-7a8c-44cf-c895-f93070979a69"
   },
   "outputs": [],
   "source": [
    "# Compute the x and y coordinates for points on a sine curve\n",
    "x = np.arange(0, 3 * np.pi, 0.1)\n",
    "y = np.sin(x)\n",
    "\n",
    "# Plot the points using matplotlib\n",
    "plt.plot(x, y)\n",
    "plt.show()  # You must call plt.show() to make graphics appear."
   ]
  },
  {
   "cell_type": "markdown",
   "metadata": {
    "id": "hPg7iOcwWKSa"
   },
   "source": [
    "With just a little bit of extra work we can easily plot multiple lines at once, and add a title, legend, and axis labels:"
   ]
  },
  {
   "cell_type": "code",
   "execution_count": null,
   "metadata": {
    "colab": {
     "base_uri": "https://localhost:8080/",
     "height": 295
    },
    "id": "65z3ngzCWKSa",
    "outputId": "ee49eedb-7330-431c-9d37-3f3ce438dc0b"
   },
   "outputs": [],
   "source": [
    "# Compute the x and y coordinates for points on sine and cosine curves\n",
    "x = np.arange(0, 3 * np.pi, 0.1)\n",
    "y_sin = np.sin(x)\n",
    "y_cos = np.cos(x)\n",
    "\n",
    "# Plot the points using matplotlib\n",
    "plt.plot(x, y_sin)\n",
    "plt.plot(x, y_cos)\n",
    "plt.xlabel('x axis label')\n",
    "plt.ylabel('y axis label')\n",
    "plt.title('Sine and Cosine')\n",
    "plt.legend(['Sine', 'Cosine'])\n",
    "plt.show()"
   ]
  },
  {
   "cell_type": "markdown",
   "metadata": {
    "id": "BXdl9cX1WKSb"
   },
   "source": [
    "You can read much more about the `plot` function in the [documentation](https://matplotlib.org/api/pyplot_api.html#matplotlib.pyplot.plot)."
   ]
  },
  {
   "cell_type": "markdown",
   "metadata": {
    "id": "yjv8odw0WKSb"
   },
   "source": [
    "### Subplots"
   ]
  },
  {
   "cell_type": "markdown",
   "metadata": {
    "id": "9t2sZt62WKSc"
   },
   "source": [
    "You can plot different things in the same figure using the subplot function. Here is an example:"
   ]
  },
  {
   "cell_type": "code",
   "execution_count": null,
   "metadata": {
    "colab": {
     "base_uri": "https://localhost:8080/",
     "height": 281
    },
    "id": "XuTfX3CcWKSc",
    "outputId": "a17df40b-a68b-44f9-e785-3109ba6607ed"
   },
   "outputs": [],
   "source": [
    "# Compute the x and y coordinates for points on sine and cosine curves\n",
    "x = np.arange(0, 3 * np.pi, 0.1)\n",
    "y_sin = np.sin(x)\n",
    "y_cos = np.cos(x)\n",
    "\n",
    "# Set up a subplot grid that has height 2 and width 1,\n",
    "# and set the first such subplot as active.\n",
    "plt.subplot(2, 1, 1)\n",
    "\n",
    "# Make the first plot\n",
    "plt.plot(x, y_sin)\n",
    "plt.title('Sine')\n",
    "\n",
    "# Set the second subplot as active, and make the second plot.\n",
    "plt.subplot(2, 1, 2)\n",
    "plt.plot(x, y_cos)\n",
    "plt.title('Cosine')\n",
    "\n",
    "# Show the figure.\n",
    "plt.show()"
   ]
  },
  {
   "cell_type": "markdown",
   "metadata": {
    "id": "2WRJ69zXWKSc"
   },
   "source": [
    "You can read much more about the `subplot` function in the [documentation](https://matplotlib.org/api/pyplot_api.html#matplotlib.pyplot.subplot)."
   ]
  },
  {
   "cell_type": "markdown",
   "metadata": {
    "id": "drzsBrKVaYcv"
   },
   "source": [
    "## Regex\n",
    "\n",
    "A regular expression (or RE) specifies a set of strings that matches it; the functions in this module let you check if a particular string matches a given regular expression (or if a given regular expression matches a particular string, which comes down to the same thing). Regex may involve metacharaters/Sequences/Sets that form a search pattern.\n",
    "\n",
    "1. `^` matches the start of the string\n",
    "2. `*` matches zero or more number of repitions of preceding Regular expression.\n",
    "3.  `$` matches the end of string with given sequence.\n",
    "4.  `\\d`\tReturns a match where the string contains digits (numbers from 0-9)\n",
    "5.  `\\s` returns a match where the string contains a white space character\n",
    "6.  `[a-n]` returns a match for any lower case character, alphabetically between a and n.\n",
    "7.  `[0-9]` returns a match for any digit between 0 and 9\n",
    "\n",
    "Complete list of sequences can be found [here](https://docs.python.org/3/library/re.html)\n",
    "\n",
    "To use Regex, we first need to import the package."
   ]
  },
  {
   "cell_type": "code",
   "execution_count": null,
   "metadata": {
    "id": "U7nvlhLtcBwX"
   },
   "outputs": [],
   "source": [
    "import re"
   ]
  },
  {
   "cell_type": "markdown",
   "metadata": {
    "id": "QqyKqSrlcpMY"
   },
   "source": [
    "This package offers variety of different functions which can be used to find patterns in the string."
   ]
  },
  {
   "cell_type": "markdown",
   "metadata": {
    "id": "0-LpOKUheedf"
   },
   "source": [
    "###FindAll()\n",
    "This method is used to print a list of all the matches of given string. If no matches are found then an empty list is returned. Following examples will explain:"
   ]
  },
  {
   "cell_type": "code",
   "execution_count": null,
   "metadata": {
    "id": "hjnI4JNIccGV"
   },
   "outputs": [],
   "source": [
    "txt = \"Its been an energetic day today.\"\n",
    "x = re.findall(\"day\", txt) ## find all instances of string 'day' in txt string\n",
    "print(x) ## print all occurences if exist"
   ]
  },
  {
   "cell_type": "code",
   "execution_count": null,
   "metadata": {
    "id": "TgXqKIUof3UX"
   },
   "outputs": [],
   "source": [
    "txt = \"from\"\n",
    "x = \"We are going there tomorrow.\"\n",
    "x = re.findall(\"is\", txt) ## find all instances of string 'is' in txt string\n",
    "print(x) ## print empty string since no such instances exist"
   ]
  },
  {
   "cell_type": "markdown",
   "metadata": {
    "id": "VNGPR3MDhis_"
   },
   "source": [
    "### Split()\n",
    "Split function is used to return a list where there the string has been split at each match. In example below, regular expression `\\s` splits the string at each white space character."
   ]
  },
  {
   "cell_type": "code",
   "execution_count": null,
   "metadata": {
    "id": "uQnxudvzi16a"
   },
   "outputs": [],
   "source": [
    "txt = \"We are going to a park.\"\n",
    "x = re.split(\"\\s\", txt)\n",
    "print(x)\n"
   ]
  },
  {
   "cell_type": "markdown",
   "metadata": {
    "id": "oKX76GaAjHVT"
   },
   "source": [
    "We can control the maximum number of splits by providing `maxsplit` parameter. In example below, only first 2 splits occurences will be found and returned as list."
   ]
  },
  {
   "cell_type": "code",
   "execution_count": null,
   "metadata": {
    "id": "mJY_i5e0i2yz"
   },
   "outputs": [],
   "source": [
    "txt = \"We are going to a park.\"\n",
    "x = re.split(\"\\s\", txt, 2)\n",
    "print(x)"
   ]
  },
  {
   "cell_type": "markdown",
   "metadata": {
    "id": "Q2MH7_GpkArR"
   },
   "source": [
    "### Sub()\n",
    "The sub() function replaces the matches with the text of your choice. For example, [0-9] regex will replace digits with given string."
   ]
  },
  {
   "cell_type": "code",
   "execution_count": null,
   "metadata": {
    "colab": {
     "base_uri": "https://localhost:8080/"
    },
    "id": "P86p7D0xjWMY",
    "outputId": "990b273a-82e0-4049-957a-c113ee4c10ac"
   },
   "outputs": [],
   "source": [
    "txt = \"Some digits like 100 and 490 are replaced.\"\n",
    "x = re.sub(\"[0-9]\", \"-\", txt)\n",
    "print(x)"
   ]
  },
  {
   "cell_type": "markdown",
   "metadata": {
    "id": "uKpK2z16x47W"
   },
   "source": [
    "### Search()\n",
    "Returns a Match object if there is a match anywhere in the string.\n",
    "Using this method, the regular expression in given example looks for any words that starts with an upper case \"S\":"
   ]
  },
  {
   "cell_type": "code",
   "execution_count": null,
   "metadata": {
    "id": "MxuFolNDwtl2"
   },
   "outputs": [],
   "source": [
    "txt = \"The rain in Spain.\"\n",
    "x = re.search(r\"\\bS\\w+\", txt)\n",
    "print(x) ## prints match object\n",
    "print(x.group()) ## prints a tuple containing all the subgroups of the match,"
   ]
  },
  {
   "cell_type": "markdown",
   "metadata": {
    "id": "5RsNIii2ynoR"
   },
   "source": [
    "## Reading from the File"
   ]
  },
  {
   "cell_type": "markdown",
   "metadata": {
    "id": "XT-ct89kHY23"
   },
   "source": [
    "Refer to the dataset `StudentsPerformance.csv` for the question below. Provide the path of this csv to the `read_csv` command.\n",
    "\n",
    "\n"
   ]
  },
  {
   "cell_type": "code",
   "execution_count": null,
   "metadata": {
    "id": "MIqG127jaILZ"
   },
   "outputs": [],
   "source": [
    "import pandas as pd\n",
    "data = pd.read_csv('Dataset/students data.csv')\n",
    "data.head()\n"
   ]
  },
  {
   "cell_type": "markdown",
   "metadata": {
    "id": "ldoTPKRXhDB3"
   },
   "source": [
    "## Writing to a File"
   ]
  },
  {
   "cell_type": "code",
   "execution_count": null,
   "metadata": {
    "id": "KVXr3o7Vgqmy"
   },
   "outputs": [],
   "source": [
    "#open the file in the append mode as the write mode overwrites the first line\n",
    "file1 = open(\"myfile.txt\",\"a\")\n",
    "file1.write(\"Today \\n\")\n",
    "file1.close()"
   ]
  },
  {
   "cell_type": "markdown",
   "metadata": {
    "id": "TCOCfpWOp1qo"
   },
   "source": [
    "## Scikit Learn\n",
    "\n",
    "Scikit-learn, commonly known as sklearn, is a free Machine Learning library for the Python programming language. It offers numerous classification, regression, and clustering algorithms, including K-Means, Linear Regression, Logistic Regression, Naive Bayes and State Vector Machines, etc. Moreover, it supports tasks such as feature extraction, feature selection, model evaluation, model selection, parameter tuning, etc.\n",
    "\n",
    "Sklearn is a widely used library due to numerous reasons, such as:\n",
    "\n",
    "1.   It is easy to learn and use.\n",
    "2.   It covers all aspects of Machine Learning.\n",
    "3.   It is very versatile and powerful.\n",
    "4.   It is very versatile and powerful.\n",
    "5.   It is an open-source library with an active community and detailed documentation.\n",
    "\n",
    "\n",
    "More information regarding Sklearn, including its implementation, can be found [here](https://scikit-learn.org/stable/).\n"
   ]
  },
  {
   "cell_type": "markdown",
   "metadata": {
    "id": "60c4war2HIAr"
   },
   "source": [
    "## Questions\n",
    "Solve some of the questions below to get more clear understanding of python basics:"
   ]
  },
  {
   "cell_type": "markdown",
   "metadata": {
    "deletable": false,
    "editable": false,
    "id": "J8Cr9I0fRCdG"
   },
   "source": [
    "**Q1: Write the code to determine the parity of a given number. It should return `even` or `odd` as a string depending on the parity.**             \n"
   ]
  },
  {
   "cell_type": "code",
   "execution_count": 57,
   "metadata": {
    "id": "tQ8eUq_vRjMj",
    "tags": [
     "otter_answer_cell"
    ]
   },
   "outputs": [],
   "source": [
    "def parity(num):\n",
    "    ..."
   ]
  },
  {
   "cell_type": "code",
   "execution_count": 58,
   "metadata": {
    "deletable": false,
    "editable": false
   },
   "outputs": [
    {
     "data": {
      "text/html": [
       "<p><strong style='color: red;'><pre style='display: inline;'>Q01</pre> results:</strong></p><p><strong><pre style='display: inline;'>Q01 - 1</pre> result:</strong></p><pre>    ❌ Test case failed\n",
       "    Trying:\n",
       "        assert parity(3) == 'odd'\n",
       "    Expecting nothing\n",
       "    **********************************************************************\n",
       "    Line 1, in Q01 0\n",
       "    Failed example:\n",
       "        assert parity(3) == 'odd'\n",
       "    Exception raised:\n",
       "        Traceback (most recent call last):\n",
       "          File \"c:\\Anaconda\\envs\\myenv\\Lib\\doctest.py\", line 1395, in __run\n",
       "            exec(compile(example.source, filename, \"single\",\n",
       "            ~~~~^^^^^^^^^^^^^^^^^^^^^^^^^^^^^^^^^^^^^^^^^^^^\n",
       "                         compileflags, True), test.globs)\n",
       "                         ^^^^^^^^^^^^^^^^^^^^^^^^^^^^^^^^\n",
       "          File \"<doctest Q01 0[0]>\", line 1, in <module>\n",
       "            assert parity(3) == 'odd'\n",
       "                   ^^^^^^^^^^^^^^^^^^\n",
       "        AssertionError\n",
       "    Trying:\n",
       "        assert parity(4) == 'even'\n",
       "    Expecting nothing\n",
       "    **********************************************************************\n",
       "    Line 2, in Q01 0\n",
       "    Failed example:\n",
       "        assert parity(4) == 'even'\n",
       "    Exception raised:\n",
       "        Traceback (most recent call last):\n",
       "          File \"c:\\Anaconda\\envs\\myenv\\Lib\\doctest.py\", line 1395, in __run\n",
       "            exec(compile(example.source, filename, \"single\",\n",
       "            ~~~~^^^^^^^^^^^^^^^^^^^^^^^^^^^^^^^^^^^^^^^^^^^^\n",
       "                         compileflags, True), test.globs)\n",
       "                         ^^^^^^^^^^^^^^^^^^^^^^^^^^^^^^^^\n",
       "          File \"<doctest Q01 0[1]>\", line 1, in <module>\n",
       "            assert parity(4) == 'even'\n",
       "                   ^^^^^^^^^^^^^^^^^^^\n",
       "        AssertionError\n",
       "</pre>"
      ],
      "text/plain": [
       "Q01 results:\n",
       "    Q01 - 1 result:\n",
       "        ❌ Test case failed\n",
       "        Trying:\n",
       "            assert parity(3) == 'odd'\n",
       "        Expecting nothing\n",
       "        **********************************************************************\n",
       "        Line 1, in Q01 0\n",
       "        Failed example:\n",
       "            assert parity(3) == 'odd'\n",
       "        Exception raised:\n",
       "            Traceback (most recent call last):\n",
       "              File \"c:\\Anaconda\\envs\\myenv\\Lib\\doctest.py\", line 1395, in __run\n",
       "                exec(compile(example.source, filename, \"single\",\n",
       "                ~~~~^^^^^^^^^^^^^^^^^^^^^^^^^^^^^^^^^^^^^^^^^^^^\n",
       "                             compileflags, True), test.globs)\n",
       "                             ^^^^^^^^^^^^^^^^^^^^^^^^^^^^^^^^\n",
       "              File \"<doctest Q01 0[0]>\", line 1, in <module>\n",
       "                assert parity(3) == 'odd'\n",
       "                       ^^^^^^^^^^^^^^^^^^\n",
       "            AssertionError\n",
       "        Trying:\n",
       "            assert parity(4) == 'even'\n",
       "        Expecting nothing\n",
       "        **********************************************************************\n",
       "        Line 2, in Q01 0\n",
       "        Failed example:\n",
       "            assert parity(4) == 'even'\n",
       "        Exception raised:\n",
       "            Traceback (most recent call last):\n",
       "              File \"c:\\Anaconda\\envs\\myenv\\Lib\\doctest.py\", line 1395, in __run\n",
       "                exec(compile(example.source, filename, \"single\",\n",
       "                ~~~~^^^^^^^^^^^^^^^^^^^^^^^^^^^^^^^^^^^^^^^^^^^^\n",
       "                             compileflags, True), test.globs)\n",
       "                             ^^^^^^^^^^^^^^^^^^^^^^^^^^^^^^^^\n",
       "              File \"<doctest Q01 0[1]>\", line 1, in <module>\n",
       "                assert parity(4) == 'even'\n",
       "                       ^^^^^^^^^^^^^^^^^^^\n",
       "            AssertionError"
      ]
     },
     "execution_count": 58,
     "metadata": {},
     "output_type": "execute_result"
    }
   ],
   "source": [
    "grader.check(\"Q01\")"
   ]
  },
  {
   "cell_type": "markdown",
   "metadata": {
    "deletable": false,
    "editable": false,
    "id": "pB2VBGtgH0sA"
   },
   "source": [
    "**Q2: For a given list of strings, check if the length of the string is even or odd. Store \"`even`\" or \"`odd`\" in the variable `list_parity` accordingly.**"
   ]
  },
  {
   "cell_type": "code",
   "execution_count": null,
   "metadata": {
    "id": "9bzTD62FH0sE",
    "tags": [
     "otter_answer_cell"
    ]
   },
   "outputs": [],
   "source": [
    "x = ['alphabets', 'numerics', 'data types', '123', 'wild' ,'abc', 'chars']\n",
    "list_parity = ..."
   ]
  },
  {
   "cell_type": "code",
   "execution_count": null,
   "metadata": {
    "deletable": false,
    "editable": false
   },
   "outputs": [],
   "source": [
    "grader.check(\"Q02\")"
   ]
  },
  {
   "cell_type": "markdown",
   "metadata": {
    "deletable": false,
    "editable": false,
    "id": "HuEAV1tiRpB0"
   },
   "source": [
    "**Q3: Write a code to reverse the string \"hello\" using indexing. Store the reversed string in `output_string`.**"
   ]
  },
  {
   "cell_type": "code",
   "execution_count": null,
   "metadata": {
    "id": "Fmv2vpowRuPO",
    "tags": [
     "otter_answer_cell"
    ]
   },
   "outputs": [],
   "source": [
    "input_string = \"hello\"\n",
    "output_string = ..."
   ]
  },
  {
   "cell_type": "code",
   "execution_count": null,
   "metadata": {
    "deletable": false,
    "editable": false
   },
   "outputs": [],
   "source": [
    "grader.check(\"Q03\")"
   ]
  },
  {
   "cell_type": "markdown",
   "metadata": {
    "deletable": false,
    "editable": false,
    "id": "w9uN3aQbldUr"
   },
   "source": [
    "**Q4: For numbers in range 0 to 100, return a list of those that are multiple of 2 but not 5 using list comprehension. Store it in `result_lc`.**"
   ]
  },
  {
   "cell_type": "code",
   "execution_count": null,
   "metadata": {
    "id": "oMz2wfz5lcHG",
    "tags": [
     "otter_answer_cell"
    ]
   },
   "outputs": [],
   "source": [
    "result_lc = ..."
   ]
  },
  {
   "cell_type": "code",
   "execution_count": null,
   "metadata": {
    "deletable": false,
    "editable": false
   },
   "outputs": [],
   "source": [
    "grader.check(\"Q04\")"
   ]
  },
  {
   "cell_type": "markdown",
   "metadata": {
    "deletable": false,
    "editable": false,
    "id": "nIbpYb6Q2hEV"
   },
   "source": [
    "**Q5: Generate two numpy arrays x and y of 20 random integers between [1,10], compute a new array where each element is the square of sum of corresponding entries in x and y. Use broadcasting in this question and store the result in `z`.**\n",
    "\n",
    "For example: x =[1,2,3] , y =[3,4,5]\n",
    "Result: [16, 36, 64]"
   ]
  },
  {
   "cell_type": "code",
   "execution_count": null,
   "metadata": {
    "id": "xISKdth141iq",
    "tags": [
     "otter_answer_cell"
    ]
   },
   "outputs": [],
   "source": [
    "import numpy as np\n",
    "\n",
    "x = ...\n",
    "y = ...\n",
    "\n",
    "z = ..."
   ]
  },
  {
   "cell_type": "code",
   "execution_count": null,
   "metadata": {
    "deletable": false,
    "editable": false
   },
   "outputs": [],
   "source": [
    "grader.check(\"Q05\")"
   ]
  },
  {
   "cell_type": "markdown",
   "metadata": {
    "deletable": false,
    "editable": false,
    "id": "YvUa7J2tK-Y6"
   },
   "source": [
    "**Q6: Given two dictionaries of ids and Mathematics scores, write a function to return a default dictionary where keys are students ids and values are a list containing the corresponding student's name and their score. Store the result in `student_dict`.**\n"
   ]
  },
  {
   "cell_type": "code",
   "execution_count": null,
   "metadata": {
    "id": "B6CKH7EkLNeP",
    "tags": [
     "otter_answer_cell"
    ]
   },
   "outputs": [],
   "source": [
    "from collections import defaultdict\n",
    "ids = {4: 'John', 2: 'Robert', 1: 'Alice', 3: 'William', 5: 'Edward'} ## keys are student ids and values are student names\n",
    "maths_scores = {2: 89, 1: 78.8, 3: 100, 5: 67.5, 4: 45}  ## keys are student ids and values are student scores\n",
    "\n",
    "def return_dict(ids,maths_scores):\n",
    "    ...\n",
    "\n",
    "student_dict = ..."
   ]
  },
  {
   "cell_type": "code",
   "execution_count": null,
   "metadata": {
    "deletable": false,
    "editable": false
   },
   "outputs": [],
   "source": [
    "grader.check(\"Q06\")"
   ]
  },
  {
   "cell_type": "markdown",
   "metadata": {
    "deletable": false,
    "editable": false,
    "id": "c6MuT8TYLnvv"
   },
   "source": [
    "**Q7: Given a numpy array `x`, write a function to find all negative elements and replace them with their squares. Use boolean indexing. Store the result in `negative_filtered`.**"
   ]
  },
  {
   "cell_type": "code",
   "execution_count": null,
   "metadata": {
    "id": "tWEfvOzhLjER",
    "tags": [
     "otter_answer_cell"
    ]
   },
   "outputs": [],
   "source": [
    "x = np.array([[4,-5,7,-10],[-110,4,-8,34],[14,5,-17,-20]])\n",
    "\n",
    "def replaceNegative(x):\n",
    "    ...\n",
    "    \n",
    "negative_filtered = ..."
   ]
  },
  {
   "cell_type": "code",
   "execution_count": null,
   "metadata": {
    "deletable": false,
    "editable": false
   },
   "outputs": [],
   "source": [
    "grader.check(\"Q07\")"
   ]
  },
  {
   "cell_type": "markdown",
   "metadata": {
    "deletable": false,
    "editable": false,
    "id": "OKej-1UHSAbf"
   },
   "source": [
    "**Q8: Write a function which takes that numpy 1-D array as input and returns the following:**\n",
    "\n",
    "1.   Maximum value in the array\n",
    "2.   Standard Deviation\n",
    "3.   Sum of all the elements in the array\n",
    "\n",
    "Store results in `max_val`, `std_dev`, `sum_val`."
   ]
  },
  {
   "cell_type": "code",
   "execution_count": null,
   "metadata": {
    "id": "Y70Mv7HISUOl",
    "tags": [
     "otter_answer_cell"
    ]
   },
   "outputs": [],
   "source": [
    "x = np.array([[4,-5,7,-10],[-110,4,-8,34],[14,5,-17,-20]])\n",
    "\n",
    "def array_info(arr):\n",
    "    ...\n",
    "\n",
    "max_val, std_dev, sum_val = ..."
   ]
  },
  {
   "cell_type": "code",
   "execution_count": null,
   "metadata": {
    "deletable": false,
    "editable": false
   },
   "outputs": [],
   "source": [
    "grader.check(\"Q08\")"
   ]
  },
  {
   "cell_type": "markdown",
   "metadata": {
    "deletable": false,
    "editable": false,
    "id": "GyE7f5cdSjme"
   },
   "source": [
    "**Q9: Write a Python function that accepts a string and calculates and returns the number of upper case letters and lower case letters. Store the result in `upper`, `lower` respectively.**  \n",
    "\n"
   ]
  },
  {
   "cell_type": "code",
   "execution_count": null,
   "metadata": {
    "id": "iPawA5zjSqJ5",
    "tags": [
     "otter_answer_cell"
    ]
   },
   "outputs": [],
   "source": [
    "str = \"Hello Mr. Rogers, how are you this fine Tuesday?\"\n",
    "\n",
    "def count_chars(input_str):\n",
    "    ...\n",
    "    \n",
    "upper, lower = ..."
   ]
  },
  {
   "cell_type": "code",
   "execution_count": null,
   "metadata": {
    "deletable": false,
    "editable": false
   },
   "outputs": [],
   "source": [
    "grader.check(\"Q09\")"
   ]
  },
  {
   "cell_type": "markdown",
   "metadata": {
    "deletable": false,
    "editable": false,
    "id": "vGhdJEBISz0T"
   },
   "source": [
    "**Q10: Write a function that stores the integers from 1 to 100. But for multiples of three, store \"Fizz\" instead of the number, and for the multiples of five store \"Buzz\". For numbers which are multiples of both three and five store \"FizzBuzz\". Store the result in `fizzbuzz`.**"
   ]
  },
  {
   "cell_type": "code",
   "execution_count": null,
   "metadata": {
    "id": "1rXLf2KWS74A",
    "tags": [
     "otter_answer_cell"
    ]
   },
   "outputs": [],
   "source": [
    "def fizzbuzz_func():\n",
    "    ...\n",
    "\n",
    "fizzbuzz = ..."
   ]
  },
  {
   "cell_type": "code",
   "execution_count": null,
   "metadata": {
    "deletable": false,
    "editable": false
   },
   "outputs": [],
   "source": [
    "grader.check(\"Q10\")"
   ]
  },
  {
   "cell_type": "markdown",
   "metadata": {
    "deletable": false,
    "editable": false,
    "id": "xADW_rCrTE1W"
   },
   "source": [
    "**Q11: Write a function, `calculateSum(l,k)` which will take a list, `l` and a number `k` as input and return two numbers from `l` that add up to `k`.**"
   ]
  },
  {
   "cell_type": "code",
   "execution_count": null,
   "metadata": {
    "id": "Vgrax_Z-TIax",
    "tags": [
     "otter_answer_cell"
    ]
   },
   "outputs": [],
   "source": [
    "l = [1, 21, 3, 14, 5, 60, 7, 6]\n",
    "k = 81\n",
    "\n",
    "def calculateSum(l, k):\n",
    "    ...\n",
    "    \n",
    "num1, num2 = calculateSum(l, k)"
   ]
  },
  {
   "cell_type": "code",
   "execution_count": null,
   "metadata": {
    "deletable": false,
    "editable": false
   },
   "outputs": [],
   "source": [
    "grader.check(\"Q11\")"
   ]
  },
  {
   "cell_type": "markdown",
   "metadata": {
    "deletable": false,
    "editable": false,
    "id": "rz4skoNTTPab"
   },
   "source": [
    "\n",
    "\n",
    "**Q12: Write a function, `find_students`  that receives the students dictionary and an address, and returns a list with names in sorted order of all students whose address matches the address in the argument. Store the result in `students_list`.**\n",
    "\n"
   ]
  },
  {
   "cell_type": "code",
   "execution_count": null,
   "metadata": {
    "colab": {
     "base_uri": "https://localhost:8080/"
    },
    "id": "C0MZwcLLTUQP",
    "outputId": "34cea024-ac17-4385-e8f7-e581075c94c2",
    "tags": [
     "otter_answer_cell"
    ]
   },
   "outputs": [],
   "source": [
    "def find_students(address, students):\n",
    "  ...\n",
    "\n",
    "students = {\n",
    "      \"Ali\": {\"age\": 6, \"address\": \"Lahore\"},\n",
    "      \"Ahmad\": {\"age\": 15, \"address\": \"Islamabad\"},\n",
    "      \"Eesha\": {\"age\": 21, \"address\": \"Karachi\"},\n",
    "}\n",
    "\n",
    "students_list = ..."
   ]
  },
  {
   "cell_type": "code",
   "execution_count": null,
   "metadata": {
    "deletable": false,
    "editable": false
   },
   "outputs": [],
   "source": [
    "grader.check(\"Q12\")"
   ]
  },
  {
   "cell_type": "markdown",
   "metadata": {
    "deletable": false,
    "editable": false,
    "id": "iZ8SMLqQTdFR"
   },
   "source": [
    "**Q13: Edit the following iterator class to return all the positive even numbers from 1 to (n).**   "
   ]
  },
  {
   "cell_type": "code",
   "execution_count": null,
   "metadata": {
    "id": "AowdlG29Thhg",
    "tags": [
     "otter_answer_cell"
    ]
   },
   "outputs": [],
   "source": [
    "class evenNumbers:\n",
    "  def __init__(self, n):\n",
    "    ...\n",
    "\n",
    "  def __iter__(self):\n",
    "    return self\n",
    "\n",
    "  def next(self):\n",
    "    ...\n",
    "\n",
    "myrange = evenNumbers(10)\n",
    "next_num = myrange.next()"
   ]
  },
  {
   "cell_type": "code",
   "execution_count": null,
   "metadata": {
    "deletable": false,
    "editable": false
   },
   "outputs": [],
   "source": [
    "grader.check(\"Q13\")"
   ]
  },
  {
   "cell_type": "markdown",
   "metadata": {
    "deletable": false,
    "editable": false,
    "id": "P8vZbdD8Tr9v"
   },
   "source": [
    "**Q14: Using keys and indexing, grab the 'hello' from the given dictionaries. Store the result in `a1`, `a2`, `a3` respectively.**\n"
   ]
  },
  {
   "cell_type": "code",
   "execution_count": null,
   "metadata": {
    "id": "r1nI0vt7Tzxy",
    "tags": [
     "otter_answer_cell"
    ]
   },
   "outputs": [],
   "source": [
    "d1 = {'simple_key':'hello'}\n",
    "\n",
    "d2 = {'k1':{'k2':'hello'}}\n",
    "\n",
    "d3 = {'k1':[{'nest_key':['this is deep',['hello']]}]}\n",
    "\n",
    "a1 = ...\n",
    "\n",
    "a2 = ...\n",
    "\n",
    "a3 = ...\n"
   ]
  },
  {
   "cell_type": "code",
   "execution_count": null,
   "metadata": {
    "deletable": false,
    "editable": false
   },
   "outputs": [],
   "source": [
    "grader.check(\"Q14\")"
   ]
  },
  {
   "cell_type": "markdown",
   "metadata": {
    "deletable": false,
    "editable": false,
    "id": "5f8yWxZwGBH-"
   },
   "source": [
    "**Q15: Write a python Class that accepts a tuple, has two instance variables, setter and getter methods and also write these methods to compute results accordingly:**\n",
    "\n",
    "1.   def Addition(tup)\n",
    "2.   def  Subtraction (tup)\n",
    "3.   def Multiplication(tup)\n",
    "4.   def Division(tup )\n",
    "5.   def Power(tup)\n"
   ]
  },
  {
   "cell_type": "code",
   "execution_count": null,
   "metadata": {
    "id": "2gPaYB_6GtMQ",
    "tags": [
     "otter_answer_cell"
    ]
   },
   "outputs": [],
   "source": [
    "class HandleTuple:\n",
    "    def __init__(self, tup):\n",
    "        self._tup = ...\n",
    "\n",
    "    # Setter\n",
    "    def set_tuple(self, tup):\n",
    "        self._tup = ...\n",
    "\n",
    "    # Getter\n",
    "    def get_tuple(self):\n",
    "        ...\n",
    "\n",
    "    # 1. Addition\n",
    "    def Addition(self):\n",
    "        ...\n",
    " \n",
    "    # 2. Subtraction (first element - rest)\n",
    "    def Subtraction(self):\n",
    "        ...\n",
    "\n",
    "    # 3. Multiplication\n",
    "    def Multiplication(self):\n",
    "        ...\n",
    "\n",
    "    # 4. Division (first element ÷ rest, don't worry about division by zero)\n",
    "    def Division(self):\n",
    "        ...\n",
    "\n",
    "    # 5. Power (first element raised to power of rest sequentially)\n",
    "    def Power(self):\n",
    "        ...\n",
    "\n",
    "tupclass = HandleTuple((10,2,3))\n",
    "addition = tupclass.Addition()\n",
    "subtraction = tupclass.Subtraction()\n",
    "multiplication = tupclass.Multiplication()\n",
    "division = tupclass.Division()\n",
    "power = tupclass.Power()"
   ]
  },
  {
   "cell_type": "code",
   "execution_count": null,
   "metadata": {
    "deletable": false,
    "editable": false
   },
   "outputs": [],
   "source": [
    "grader.check(\"Q15\")"
   ]
  },
  {
   "cell_type": "markdown",
   "metadata": {
    "deletable": false,
    "editable": false,
    "id": "NwuvJ74zL9cr"
   },
   "source": [
    "<!-- BEGIN QUESTION -->\n",
    "\n",
    "**Q16. For given array x of floating point numbers. Print plots for the following functions with the specified properties. Make a different subplot for each listed number.**  \n",
    "\n",
    "1. y1 = $x^{2}$,\n",
    "y2 = $x^{3}$\n",
    "* X and Y axis labels\n",
    "* Legend in top left corner\n",
    "* Give appropriate title\n",
    "* y1 line with green color\n",
    "* y2 line with orange color\n",
    "\n",
    "2. y1 = $sin(x)^{2}$ * $sin(x)^{3}$\n",
    "* X and Y axis labels\n",
    "* Legend in top center\n",
    "* Give appropriate title\n",
    "* line fontsize 15\n",
    "\n",
    "3. y1 = $cos(x)^{2}$\n",
    "* X and Y axis labels\n",
    "* Legend in bottom right corner\n",
    "* Give appropriate title\n",
    "* y1 graph with green circles only and circles should not be connected via line.\n",
    "\n"
   ]
  },
  {
   "cell_type": "code",
   "execution_count": null,
   "metadata": {
    "id": "yhB8hFK0TALX",
    "tags": [
     "otter_answer_cell"
    ]
   },
   "outputs": [],
   "source": [
    "x = np.arange(-10,10, 0.2)\n",
    "\n",
    "..."
   ]
  },
  {
   "cell_type": "markdown",
   "metadata": {
    "deletable": false,
    "editable": false,
    "id": "OAuW-W6ZltOx"
   },
   "source": [
    "<!-- END QUESTION -->\n",
    "\n",
    "**Q17: Read the data given in the file `students data` and save it into a dataframe named `students_df`. DO NOT USE ABSOLUTE PATHS.**\n",
    "\n",
    "**Also, plot the Math, Reading, and Writing Scores along with the name of the student. Make different plots for all three scores.**\n",
    "\n",
    "Remember to do the following:\n",
    "\n",
    "1.   Assign X and Y labels\n",
    "2.   Assign an appropriate title\n",
    "\n",
    "\n",
    "\n",
    "\n"
   ]
  },
  {
   "cell_type": "code",
   "execution_count": null,
   "metadata": {
    "id": "wjBkd4a_nR2e",
    "tags": [
     "otter_answer_cell"
    ]
   },
   "outputs": [],
   "source": [
    "file_path = 'Dataset/students data.csv'\n",
    "students_df = ...\n",
    "\n",
    "..."
   ]
  },
  {
   "cell_type": "code",
   "execution_count": null,
   "metadata": {
    "deletable": false,
    "editable": false
   },
   "outputs": [],
   "source": [
    "grader.check(\"Q17\")"
   ]
  },
  {
   "cell_type": "markdown",
   "metadata": {
    "id": "DSLdLbomJ4qw"
   },
   "source": [
    "## Tweets analysis using Regex\n",
    "Refer to the Twitter US Airline Sentiment dataset for questions 18 to 22 below. We can use the Regex expressions to search for patterns in tweets. Solving some of the questions below can help you in getting better understanding of REGEX."
   ]
  },
  {
   "cell_type": "markdown",
   "metadata": {
    "deletable": false,
    "editable": false,
    "id": "xs-J-ibGKaWp"
   },
   "source": [
    "**Q18. Search for all twitter handles in the tweets. In a tweet all `@sometext` act as the twitter handle - it only contains word characters (letters, numbers, underscores, NO punctuation) . Return a set of all handler. Store the result in `twitter_handles`. Note: A Set doesn't contain duplicates.**  "
   ]
  },
  {
   "cell_type": "code",
   "execution_count": null,
   "metadata": {
    "id": "N1ozORWqND9Y",
    "tags": [
     "otter_answer_cell"
    ]
   },
   "outputs": [],
   "source": [
    "twitter_df = pd.read_csv('Dataset/Twitter US Airline Sentiment.csv')\n",
    "\n",
    "...\n"
   ]
  },
  {
   "cell_type": "code",
   "execution_count": null,
   "metadata": {
    "deletable": false,
    "editable": false
   },
   "outputs": [],
   "source": [
    "grader.check(\"Q18\")"
   ]
  },
  {
   "cell_type": "markdown",
   "metadata": {
    "deletable": false,
    "editable": false,
    "id": "fBUqbyaPNBe2"
   },
   "source": [
    "**Q19: Remove all punctuation marks from the tweets. Create a new column in the `twitter_df` named `cleaned_text` that contains all the cleaned tweets. Punctuation marks include period, comma, semi-colon, exclaimation mark, question mark and semicolon.**"
   ]
  },
  {
   "cell_type": "code",
   "execution_count": null,
   "metadata": {
    "id": "ONaXfQLBSFKr",
    "tags": [
     "otter_answer_cell"
    ]
   },
   "outputs": [],
   "source": [
    "...\n",
    "\n",
    "twitter_df['cleaned_text'] = ..."
   ]
  },
  {
   "cell_type": "code",
   "execution_count": null,
   "metadata": {
    "deletable": false,
    "editable": false
   },
   "outputs": [],
   "source": [
    "grader.check(\"Q19\")"
   ]
  },
  {
   "cell_type": "markdown",
   "metadata": {
    "deletable": false,
    "editable": false,
    "id": "XToIySemNCAv"
   },
   "source": [
    "**Q20 Return a list of all words that start with either a digit or an upper case alphabet. Store the result in `digit_or_uppercase_words`.**"
   ]
  },
  {
   "cell_type": "code",
   "execution_count": null,
   "metadata": {
    "id": "5uCaJOAdScNy",
    "tags": [
     "otter_answer_cell"
    ]
   },
   "outputs": [],
   "source": [
    "...\n",
    "\n",
    "digit_or_uppercase_words = ..."
   ]
  },
  {
   "cell_type": "code",
   "execution_count": null,
   "metadata": {
    "deletable": false,
    "editable": false
   },
   "outputs": [],
   "source": [
    "grader.check(\"Q20\")"
   ]
  },
  {
   "cell_type": "markdown",
   "metadata": {
    "deletable": false,
    "editable": false,
    "id": "pHshfF2jNCFp"
   },
   "source": [
    "**Q21 Store the top 10 most frequently used hastags(`#`) in all the tweets in descending order (by frequency). Store the result in `top10_hashtags`.**"
   ]
  },
  {
   "cell_type": "code",
   "execution_count": null,
   "metadata": {
    "id": "Eur9Oh1xWzwP",
    "tags": [
     "otter_answer_cell"
    ]
   },
   "outputs": [],
   "source": [
    "...\n",
    "\n",
    "top10_hashtags = ...\n"
   ]
  },
  {
   "cell_type": "code",
   "execution_count": null,
   "metadata": {
    "deletable": false,
    "editable": false
   },
   "outputs": [],
   "source": [
    "grader.check(\"Q21\")"
   ]
  },
  {
   "cell_type": "markdown",
   "metadata": {
    "deletable": false,
    "editable": false,
    "id": "RFaIh_HlW4y9"
   },
   "source": [
    "**Q22: Remove all urls (starting with http/https) from the `cleaned_text` column and store a list of all URLs in a list named `removed_urls`.**\n",
    "\n",
    "\n"
   ]
  },
  {
   "cell_type": "code",
   "execution_count": null,
   "metadata": {
    "id": "Xyh5tYLs_ogq",
    "tags": [
     "otter_answer_cell"
    ]
   },
   "outputs": [],
   "source": [
    "removed_urls = []\n",
    "...\n",
    "twitter_df['cleaned_text'] = ..."
   ]
  },
  {
   "cell_type": "code",
   "execution_count": null,
   "metadata": {
    "deletable": false,
    "editable": false
   },
   "outputs": [],
   "source": [
    "grader.check(\"Q22\")"
   ]
  },
  {
   "cell_type": "markdown",
   "metadata": {
    "id": "o97_dzhT3xcs"
   },
   "source": [
    "## Regex for Urdu\n",
    "\n",
    "#### Refer to the dataset `UrduWiki.csv` for questions 23 till 25. Provide the utf-8 encoding in `read_csv` to read the dataset correctly as it contains Urdu characters as well:\n",
    "\n",
    "```\n",
    "pd.read_csv(\"UrduWiki.csv\", encoding = \"utf-8\")\n",
    "```\n",
    "\n",
    "\n",
    "\n",
    "Solve the questions below to get familiarised with using regex in a multilingual dataset."
   ]
  },
  {
   "cell_type": "markdown",
   "metadata": {
    "deletable": false,
    "editable": false,
    "id": "hIPUXaxW3xcs"
   },
   "source": [
    "**Q23. Search for all the English words in the articles (contains only english alphabets). Return a set of all English words. Store it in a variable `english_words`. Note: A Set doesn't contain duplicates.**"
   ]
  },
  {
   "cell_type": "code",
   "execution_count": null,
   "metadata": {
    "id": "klvlpM0x3xcs",
    "tags": [
     "otter_answer_cell"
    ]
   },
   "outputs": [],
   "source": [
    "file_path = \"Dataset/UrduWiki.csv\"\n",
    "urdu_df = pd.read_csv(file_path, encoding='utf-8')\n",
    "\n",
    "...\n",
    "english_words = list(english_words)"
   ]
  },
  {
   "cell_type": "code",
   "execution_count": null,
   "metadata": {
    "deletable": false,
    "editable": false
   },
   "outputs": [],
   "source": [
    "grader.check(\"Q23\")"
   ]
  },
  {
   "cell_type": "markdown",
   "metadata": {
    "deletable": false,
    "editable": false,
    "id": "Iwsg9g5A3xct"
   },
   "source": [
    "**Q24: Replace all the digits with Urdu digits and remove English words. Store this text in a list named `normalized_content`. Urdu digits: [۰ ۱ ۲ ۳ ۴ ۵ ۶ ۷ ۸ ۹]**"
   ]
  },
  {
   "cell_type": "code",
   "execution_count": null,
   "metadata": {
    "id": "wvIebZPW3xcu",
    "tags": [
     "otter_answer_cell"
    ]
   },
   "outputs": [],
   "source": [
    "urdu_digits = {'0': '۰', '1': '۱', '2': '۲', '3': '۳', '4': '۴', '5': '۵', '6': '۶', '7': '۷', '8': '۸', '9': '۹'}\n",
    "\n",
    "normalized_content = ...\n",
    "...\n"
   ]
  },
  {
   "cell_type": "code",
   "execution_count": null,
   "metadata": {
    "deletable": false,
    "editable": false
   },
   "outputs": [],
   "source": [
    "grader.check(\"Q24\")"
   ]
  },
  {
   "cell_type": "markdown",
   "metadata": {
    "deletable": false,
    "editable": false,
    "id": "TqBQxiUs3xcu"
   },
   "source": [
    "**Q25: Return the top 10 most frequently used words starting with(م) in all the articles. Store in a list `top10_words` in descending order (by frequency).**"
   ]
  },
  {
   "cell_type": "code",
   "execution_count": null,
   "metadata": {
    "tags": [
     "otter_answer_cell"
    ]
   },
   "outputs": [],
   "source": [
    "...\n",
    "top10_words = ..."
   ]
  },
  {
   "cell_type": "code",
   "execution_count": null,
   "metadata": {
    "deletable": false,
    "editable": false
   },
   "outputs": [],
   "source": [
    "grader.check(\"Q25\")"
   ]
  }
 ],
 "metadata": {
  "colab": {
   "collapsed_sections": [
    "Y70GeIJgWKSZ",
    "yjv8odw0WKSb"
   ],
   "provenance": [],
   "toc_visible": true
  },
  "kernelspec": {
   "display_name": "myenv",
   "language": "python",
   "name": "python3"
  },
  "language_info": {
   "codemirror_mode": {
    "name": "ipython",
    "version": 3
   },
   "file_extension": ".py",
   "mimetype": "text/x-python",
   "name": "python",
   "nbconvert_exporter": "python",
   "pygments_lexer": "ipython3",
   "version": "3.13.5"
  }
 },
 "nbformat": 4,
 "nbformat_minor": 0
}
